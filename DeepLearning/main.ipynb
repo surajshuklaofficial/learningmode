{
 "cells": [
  {
   "cell_type": "code",
   "execution_count": null,
   "metadata": {},
   "outputs": [],
   "source": [
    "import cv2 as cv\n",
    "import numpy as np\n",
    "import pandas as pd\n",
    "import csv"
   ]
  },
  {
   "cell_type": "code",
   "execution_count": null,
   "metadata": {},
   "outputs": [],
   "source": [
    "data = list()\n",
    "data.append([3])\n",
    "print(data)\n",
    "\n",
    "data.append([1,2])\n",
    "with open(\"digit_recognizer_dataset\\\\train.csv\") as f:\n",
    "    f = csv.reader(f)\n",
    "    data = list()\n",
    "\n",
    "    for i in f:\n",
    "        \n",
    "        data.append(i)\n",
    "\n",
    "print(data)\n",
    "\n"
   ]
  },
  {
   "cell_type": "code",
   "execution_count": 7,
   "metadata": {},
   "outputs": [
    {
     "name": "stdout",
     "output_type": "stream",
     "text": [
      "[4, 16, 16]\n"
     ]
    }
   ],
   "source": [
    "input_list = [2, 4, 5, 5, 4, 7]\n",
    "\n",
    "squared_list = list()\n",
    "\n",
    "for i in input_list:\n",
    "    if i%2 == 0:\n",
    "        squared_list.append(i**2)\n",
    "\n",
    "    else :\n",
    "        pass\n",
    "\n",
    "print(squared_list)"
   ]
  },
  {
   "cell_type": "code",
   "execution_count": 8,
   "metadata": {},
   "outputs": [
    {
     "name": "stdout",
     "output_type": "stream",
     "text": [
      "[4, 16, 16]\n"
     ]
    }
   ],
   "source": [
    "squared_list = [i**2 for i in input_list if i%2 == 0 ]\n",
    "\n",
    "print(squared_list)"
   ]
  },
  {
   "cell_type": "code",
   "execution_count": null,
   "metadata": {},
   "outputs": [],
   "source": [
    "try :\n",
    "    name = input(\"Enter your name:\")\n",
    "\n",
    "except "
   ]
  }
 ],
 "metadata": {
  "kernelspec": {
   "display_name": "Python 3",
   "language": "python",
   "name": "python3"
  },
  "language_info": {
   "codemirror_mode": {
    "name": "ipython",
    "version": 3
   },
   "file_extension": ".py",
   "mimetype": "text/x-python",
   "name": "python",
   "nbconvert_exporter": "python",
   "pygments_lexer": "ipython3",
   "version": "3.10.10"
  },
  "orig_nbformat": 4,
  "vscode": {
   "interpreter": {
    "hash": "5de5528d1362145ba75a8a6fe1e9d0f4bccf9e08f877a2978ad3b6302e5929f5"
   }
  }
 },
 "nbformat": 4,
 "nbformat_minor": 2
}
