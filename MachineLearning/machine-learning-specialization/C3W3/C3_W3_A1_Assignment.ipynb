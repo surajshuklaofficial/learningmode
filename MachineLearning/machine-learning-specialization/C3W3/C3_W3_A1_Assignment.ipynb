{
 "cells": [
  {
   "cell_type": "markdown",
   "metadata": {},
   "source": [
    "# Deep Q-Learning - Lunar Lander\n",
    "\n",
    "In this assignment, you will train an agent to land a lunar lander safely on a landing pad on the surface of the moon.\n",
    "\n",
    "\n",
    "# Outline\n",
    "- [ 1 - Import Packages <img align=\"Right\" src=\"./images/lunar_lander.gif\" width = 60% >](#1)\n",
    "- [ 2 - Hyperparameters](#2)\n",
    "- [ 3 - The Lunar Lander Environment](#3)\n",
    "  - [ 3.1 Action Space](#3.1)\n",
    "  - [ 3.2 Observation Space](#3.2)\n",
    "  - [ 3.3 Rewards](#3.3)\n",
    "  - [ 3.4 Episode Termination](#3.4)\n",
    "- [ 4 - Load the Environment](#4)\n",
    "- [ 5 - Interacting with the Gym Environment](#5)\n",
    "    - [ 5.1 Exploring the Environment's Dynamics](#5.1)\n",
    "- [ 6 - Deep Q-Learning](#6)\n",
    "  - [ 6.1 Target Network](#6.1)\n",
    "    - [ Exercise 1](#ex01)\n",
    "  - [ 6.2 Experience Replay](#6.2)\n",
    "- [ 7 - Deep Q-Learning Algorithm with Experience Replay](#7)\n",
    "  - [ Exercise 2](#ex02)\n",
    "- [ 8 - Update the Network Weights](#8)\n",
    "- [ 9 - Train the Agent](#9)\n",
    "- [ 10 - See the Trained Agent In Action](#10)\n",
    "- [ 11 - Congratulations!](#11)\n",
    "- [ 12 - References](#12)\n"
   ]
  },
  {
   "cell_type": "markdown",
   "metadata": {},
   "source": [
    "_**NOTE:** To prevent errors from the autograder, you are not allowed to edit or delete non-graded cells in this lab. Please also refrain from adding any new cells. \n",
    "**Once you have passed this assignment** and want to experiment with any of the non-graded code, you may follow the instructions at the bottom of this notebook._"
   ]
  },
  {
   "cell_type": "markdown",
   "metadata": {},
   "source": [
    "<a name=\"1\"></a>\n",
    "## 1 - Import Packages\n",
    "\n",
    "We'll make use of the following packages:\n",
    "- `numpy` is a package for scientific computing in python.\n",
    "- `deque` will be our data structure for our memory buffer.\n",
    "- `namedtuple` will be used to store the experience tuples.\n",
    "- The `gym` toolkit is a collection of environments that can be used to test reinforcement learning algorithms. We should note that in this notebook we are using `gym` version `0.24.0`.\n",
    "- `PIL.Image` and `pyvirtualdisplay` are needed to render the Lunar Lander environment.\n",
    "- We will use several modules from the `tensorflow.keras` framework for building deep learning models.\n",
    "- `utils` is a module that contains helper functions for this assignment. You do not need to modify the code in this file.\n",
    "\n",
    "Run the cell below to import all the necessary packages."
   ]
  },
  {
   "cell_type": "code",
   "execution_count": 4,
   "metadata": {
    "deletable": false,
    "editable": false,
    "id": "KYbOPKRtfQOr"
   },
   "outputs": [],
   "source": [
    "import time\n",
    "from collections import deque, namedtuple\n",
    "\n",
    "import gym\n",
    "import numpy as np\n",
    "import PIL.Image\n",
    "import tensorflow as tf\n",
    "import utils\n",
    "\n",
    "from pyvirtualdisplay import Display\n",
    "from tensorflow.keras import Sequential\n",
    "from tensorflow.keras.layers import Dense, Input\n",
    "from tensorflow.keras.losses import MSE\n",
    "from tensorflow.keras.optimizers import Adam"
   ]
  },
  {
   "cell_type": "code",
   "execution_count": 5,
   "metadata": {
    "deletable": false,
    "editable": false
   },
   "outputs": [],
   "source": [
    "# Set up a virtual display to render the Lunar Lander environment.\n",
    "Display(visible=0, size=(840, 480)).start();\n",
    "\n",
    "# Set the random seed for TensorFlow\n",
    "tf.random.set_seed(utils.SEED)"
   ]
  },
  {
   "cell_type": "markdown",
   "metadata": {},
   "source": [
    "<a name=\"2\"></a>\n",
    "## 2 - Hyperparameters\n",
    "\n",
    "Run the cell below to set the hyperparameters."
   ]
  },
  {
   "cell_type": "code",
   "execution_count": 6,
   "metadata": {
    "deletable": false,
    "editable": false
   },
   "outputs": [],
   "source": [
    "MEMORY_SIZE = 100_000     # size of memory buffer\n",
    "GAMMA = 0.995             # discount factor\n",
    "ALPHA = 1e-3              # learning rate  \n",
    "NUM_STEPS_FOR_UPDATE = 4  # perform a learning update every C time steps"
   ]
  },
  {
   "cell_type": "markdown",
   "metadata": {},
   "source": [
    "<a name=\"3\"></a>\n",
    "## 3 - The Lunar Lander Environment\n",
    "\n",
    "In this notebook we will be using [OpenAI's Gym Library](https://www.gymlibrary.dev/). The Gym library provides a wide variety of environments for reinforcement learning. To put it simply, an environment represents a problem or task to be solved. In this notebook, we will try to solve the Lunar Lander environment using reinforcement learning.\n",
    "\n",
    "The goal of the Lunar Lander environment is to land the lunar lander safely on the landing pad on the surface of the moon. The landing pad is designated by two flag poles and its center is at coordinates `(0,0)` but the lander is also allowed to land outside of the landing pad. The lander starts at the top center of the environment with a random initial force applied to its center of mass and has infinite fuel. The environment is considered solved if you get `200` points. \n",
    "\n",
    "<br>\n",
    "<br>\n",
    "<figure>\n",
    "  <img src = \"images/lunar_lander.gif\" width = 40%>\n",
    "      <figcaption style = \"text-align: center; font-style: italic\">Fig 1. Lunar Lander Environment.</figcaption>\n",
    "</figure>\n",
    "\n",
    "\n",
    "\n",
    "<a name=\"3.1\"></a>\n",
    "### 3.1 Action Space\n",
    "\n",
    "The agent has four discrete actions available:\n",
    "\n",
    "* Do nothing.\n",
    "* Fire right engine.\n",
    "* Fire main engine.\n",
    "* Fire left engine.\n",
    "\n",
    "Each action has a corresponding numerical value:\n",
    "\n",
    "```python\n",
    "Do nothing = 0\n",
    "Fire right engine = 1\n",
    "Fire main engine = 2\n",
    "Fire left engine = 3\n",
    "```\n",
    "\n",
    "<a name=\"3.2\"></a>\n",
    "### 3.2 Observation Space\n",
    "\n",
    "The agent's observation space consists of a state vector with 8 variables:\n",
    "\n",
    "* Its $(x,y)$ coordinates. The landing pad is always at coordinates $(0,0)$.\n",
    "* Its linear velocities $(\\dot x,\\dot y)$.\n",
    "* Its angle $\\theta$.\n",
    "* Its angular velocity $\\dot \\theta$.\n",
    "* Two booleans, $l$ and $r$, that represent whether each leg is in contact with the ground or not.\n",
    "\n",
    "<a name=\"3.3\"></a>\n",
    "### 3.3 Rewards\n",
    "\n",
    "After every step, a reward is granted. The total reward of an episode is the sum of the rewards for all the steps within that episode.\n",
    "\n",
    "For each step, the reward:\n",
    "- is increased/decreased the closer/further the lander is to the landing pad.\n",
    "- is increased/decreased the slower/faster the lander is moving.\n",
    "- is decreased the more the lander is tilted (angle not horizontal).\n",
    "- is increased by 10 points for each leg that is in contact with the ground.\n",
    "- is decreased by 0.03 points each frame a side engine is firing.\n",
    "- is decreased by 0.3 points each frame the main engine is firing.\n",
    "\n",
    "The episode receives an additional reward of -100 or +100 points for crashing or landing safely respectively.\n",
    "\n",
    "<a name=\"3.4\"></a>\n",
    "### 3.4 Episode Termination\n",
    "\n",
    "An episode ends (i.e the environment enters a terminal state) if:\n",
    "\n",
    "* The lunar lander crashes (i.e if the body of the lunar lander comes in contact with the surface of the moon).\n",
    "\n",
    "* The absolute value of the lander's $x$-coordinate is greater than 1 (i.e. it goes beyond the left or right border)\n",
    "\n",
    "You can check out the [Open AI Gym documentation](https://www.gymlibrary.dev/environments/box2d/lunar_lander/) for a full description of the environment. "
   ]
  },
  {
   "cell_type": "markdown",
   "metadata": {},
   "source": [
    "<a name=\"4\"></a>\n",
    "## 4 - Load the Environment\n",
    "\n",
    "We start by loading the `LunarLander-v2` environment from the `gym` library by using the `.make()` method. `LunarLander-v2` is the latest version of the Lunar Lander environment and you can read about its version history in the [Open AI Gym documentation](https://www.gymlibrary.dev/environments/box2d/lunar_lander/#version-history)."
   ]
  },
  {
   "cell_type": "code",
   "execution_count": 7,
   "metadata": {
    "deletable": false,
    "editable": false,
    "id": "ILVMYKewfR0n"
   },
   "outputs": [],
   "source": [
    "env = gym.make('LunarLander-v2')"
   ]
  },
  {
   "cell_type": "markdown",
   "metadata": {},
   "source": [
    "Once we load the environment we use the `.reset()` method to reset the environment to the initial state. The lander starts at the top center of the environment and we can render the first frame of the environment by using the `.render()` method."
   ]
  },
  {
   "cell_type": "code",
   "execution_count": 8,
   "metadata": {
    "deletable": false,
    "editable": false
   },
   "outputs": [
    {
     "data": {
      "image/png": "[encoded data removed]",
      "text/plain": [
       "<PIL.Image.Image image mode=RGB size=600x400 at 0x7F0795830FD0>"
      ]
     },
     "execution_count": 8,
     "metadata": {},
     "output_type": "execute_result"
    }
   ],
   "source": [
    "env.reset()\n",
    "PIL.Image.fromarray(env.render(mode='rgb_array'))"
   ]
  },
  {
   "cell_type": "markdown",
   "metadata": {},
   "source": [
    "In order to build our neural network later on we need to know the size of the state vector and the number of valid actions. We can get this information from our environment by using the `.observation_space.shape` and `action_space.n` methods, respectively."
   ]
  },
  {
   "cell_type": "code",
   "execution_count": 9,
   "metadata": {
    "deletable": false,
    "editable": false,
    "id": "x3fdqdG4CUu2"
   },
   "outputs": [
    {
     "name": "stdout",
     "output_type": "stream",
     "text": [
      "State Shape: (8,)\n",
      "Number of actions: 4\n"
     ]
    }
   ],
   "source": [
    "state_size = env.observation_space.shape\n",
    "num_actions = env.action_space.n\n",
    "\n",
    "print('State Shape:', state_size)\n",
    "print('Number of actions:', num_actions)"
   ]
  },
  {
   "cell_type": "markdown",
   "metadata": {},
   "source": [
    "<a name=\"5\"></a>\n",
    "## 5 - Interacting with the Gym Environment\n",
    "\n",
    "The Gym library implements the standard “agent-environment loop” formalism:\n",
    "\n",
    "<br>\n",
    "<center>\n",
    "<video src = \"./videos/rl_formalism.m4v\" width=\"840\" height=\"480\" controls autoplay loop poster=\"./images/rl_formalism.png\"> </video>\n",
    "<figcaption style = \"text-align:center; font-style:italic\">Fig 2. Agent-environment Loop Formalism.</figcaption>\n",
    "</center>\n",
    "<br>\n",
    "\n",
    "In the standard “agent-environment loop” formalism, an agent interacts with the environment in discrete time steps $t=0,1,2,...$. At each time step $t$, the agent uses a policy $\\pi$ to select an action $A_t$ based on its observation of the environment's state $S_t$. The agent receives a numerical reward $R_t$ and on the next time step, moves to a new state $S_{t+1}$.\n",
    "\n",
    "<a name=\"5.1\"></a>\n",
    "### 5.1 Exploring the Environment's Dynamics\n",
    "\n",
    "In Open AI's Gym environments, we use the `.step()` method to run a single time step of the environment's dynamics. In the version of `gym` that we are using the `.step()` method accepts an action and returns four values:\n",
    "\n",
    "* `observation` (**object**): an environment-specific object representing your observation of the environment. In the Lunar Lander environment this corresponds to a numpy array containing the positions and velocities of the lander as described in section [3.2 Observation Space](#3.2).\n",
    "\n",
    "\n",
    "* `reward` (**float**): amount of reward returned as a result of taking the given action. In the Lunar Lander environment this corresponds to a float of type `numpy.float64` as described in section [3.3 Rewards](#3.3).\n",
    "\n",
    "\n",
    "* `done` (**boolean**): When done is `True`, it indicates the episode has terminated and it’s time to reset the environment. \n",
    "\n",
    "\n",
    "* `info` (**dictionary**): diagnostic information useful for debugging. We won't be using this variable in this notebook but it is shown here for completeness.\n",
    "\n",
    "To begin an episode, we need to reset the environment to an initial state. We do this by using the `.reset()` method. "
   ]
  },
  {
   "cell_type": "code",
   "execution_count": 10,
   "metadata": {
    "deletable": false,
    "editable": false
   },
   "outputs": [],
   "source": [
    "# Reset the environment and get the initial state.\n",
    "current_state = env.reset()"
   ]
  },
  {
   "cell_type": "markdown",
   "metadata": {},
   "source": [
    "Once the environment is reset, the agent can start taking actions in the environment by using the `.step()` method. Note that the agent can only take one action per time step. \n",
    "\n",
    "In the cell below you can select different actions and see how the returned values change depending on the action taken. Remember that in this environment the agent has four discrete actions available and we specify them in code by using their corresponding numerical value:\n",
    "\n",
    "```python\n",
    "Do nothing = 0\n",
    "Fire right engine = 1\n",
    "Fire main engine = 2\n",
    "Fire left engine = 3\n",
    "```"
   ]
  },
  {
   "cell_type": "code",
   "execution_count": 12,
   "metadata": {
    "deletable": false
   },
   "outputs": [
    {
     "data": {
      "text/html": [
       "<style  type=\"text/css\" >\n",
       "    #T_43cf5ed2_e9af_11ee_94b3_0242ac120019 th {\n",
       "          border: 1px solid grey;\n",
       "          text-align: center;\n",
       "    }    #T_43cf5ed2_e9af_11ee_94b3_0242ac120019 tbody td {\n",
       "          border: 1px solid grey;\n",
       "          text-align: center;\n",
       "    }    #T_43cf5ed2_e9af_11ee_94b3_0242ac120019row0_col0 {\n",
       "            background-color :  grey;\n",
       "        }    #T_43cf5ed2_e9af_11ee_94b3_0242ac120019row1_col1 {\n",
       "            background-color :  grey;\n",
       "        }    #T_43cf5ed2_e9af_11ee_94b3_0242ac120019row1_col2 {\n",
       "            background-color :  grey;\n",
       "        }    #T_43cf5ed2_e9af_11ee_94b3_0242ac120019row1_col3 {\n",
       "            background-color :  grey;\n",
       "        }    #T_43cf5ed2_e9af_11ee_94b3_0242ac120019row1_col4 {\n",
       "            background-color :  grey;\n",
       "        }    #T_43cf5ed2_e9af_11ee_94b3_0242ac120019row1_col5 {\n",
       "            background-color :  grey;\n",
       "        }    #T_43cf5ed2_e9af_11ee_94b3_0242ac120019row1_col6 {\n",
       "            background-color :  grey;\n",
       "        }    #T_43cf5ed2_e9af_11ee_94b3_0242ac120019row1_col7 {\n",
       "            background-color :  grey;\n",
       "        }    #T_43cf5ed2_e9af_11ee_94b3_0242ac120019row1_col8 {\n",
       "            background-color :  grey;\n",
       "        }    #T_43cf5ed2_e9af_11ee_94b3_0242ac120019row1_col9 {\n",
       "            background-color :  grey;\n",
       "        }    #T_43cf5ed2_e9af_11ee_94b3_0242ac120019row1_col10 {\n",
       "            background-color :  grey;\n",
       "        }    #T_43cf5ed2_e9af_11ee_94b3_0242ac120019row1_col11 {\n",
       "            background-color :  grey;\n",
       "        }    #T_43cf5ed2_e9af_11ee_94b3_0242ac120019row2_col0 {\n",
       "            background-color :  grey;\n",
       "        }    #T_43cf5ed2_e9af_11ee_94b3_0242ac120019row3_col1 {\n",
       "            background-color :  grey;\n",
       "        }    #T_43cf5ed2_e9af_11ee_94b3_0242ac120019row3_col2 {\n",
       "            background-color :  grey;\n",
       "        }    #T_43cf5ed2_e9af_11ee_94b3_0242ac120019row3_col3 {\n",
       "            background-color :  grey;\n",
       "        }    #T_43cf5ed2_e9af_11ee_94b3_0242ac120019row3_col4 {\n",
       "            background-color :  grey;\n",
       "        }    #T_43cf5ed2_e9af_11ee_94b3_0242ac120019row3_col5 {\n",
       "            background-color :  grey;\n",
       "        }    #T_43cf5ed2_e9af_11ee_94b3_0242ac120019row3_col6 {\n",
       "            background-color :  grey;\n",
       "        }    #T_43cf5ed2_e9af_11ee_94b3_0242ac120019row3_col7 {\n",
       "            background-color :  grey;\n",
       "        }    #T_43cf5ed2_e9af_11ee_94b3_0242ac120019row3_col8 {\n",
       "            background-color :  grey;\n",
       "        }    #T_43cf5ed2_e9af_11ee_94b3_0242ac120019row3_col9 {\n",
       "            background-color :  grey;\n",
       "        }    #T_43cf5ed2_e9af_11ee_94b3_0242ac120019row3_col10 {\n",
       "            background-color :  grey;\n",
       "        }    #T_43cf5ed2_e9af_11ee_94b3_0242ac120019row3_col11 {\n",
       "            background-color :  grey;\n",
       "        }    #T_43cf5ed2_e9af_11ee_94b3_0242ac120019row4_col1 {\n",
       "            background-color :  grey;\n",
       "        }    #T_43cf5ed2_e9af_11ee_94b3_0242ac120019row4_col2 {\n",
       "            background-color :  grey;\n",
       "        }    #T_43cf5ed2_e9af_11ee_94b3_0242ac120019row4_col3 {\n",
       "            background-color :  grey;\n",
       "        }    #T_43cf5ed2_e9af_11ee_94b3_0242ac120019row4_col4 {\n",
       "            background-color :  grey;\n",
       "        }    #T_43cf5ed2_e9af_11ee_94b3_0242ac120019row4_col5 {\n",
       "            background-color :  grey;\n",
       "        }    #T_43cf5ed2_e9af_11ee_94b3_0242ac120019row4_col6 {\n",
       "            background-color :  grey;\n",
       "        }    #T_43cf5ed2_e9af_11ee_94b3_0242ac120019row4_col7 {\n",
       "            background-color :  grey;\n",
       "        }    #T_43cf5ed2_e9af_11ee_94b3_0242ac120019row4_col8 {\n",
       "            background-color :  grey;\n",
       "        }    #T_43cf5ed2_e9af_11ee_94b3_0242ac120019row4_col9 {\n",
       "            background-color :  grey;\n",
       "        }    #T_43cf5ed2_e9af_11ee_94b3_0242ac120019row4_col10 {\n",
       "            background-color :  grey;\n",
       "        }    #T_43cf5ed2_e9af_11ee_94b3_0242ac120019row4_col11 {\n",
       "            background-color :  grey;\n",
       "        }</style><table id=\"T_43cf5ed2_e9af_11ee_94b3_0242ac120019\" ><thead>    <tr>        <th class=\"blank level0\" ></th>        <th class=\"col_heading level0 col0\" ></th>        <th class=\"col_heading level0 col1\" colspan=8>State Vector</th>        <th class=\"col_heading level0 col9\" colspan=3>Derived from the State Vector (the closer to zero, the better)</th>    </tr>    <tr>        <th class=\"blank level1\" ></th>        <th class=\"col_heading level1 col0\" ></th>        <th class=\"col_heading level1 col1\" colspan=2>Coordinate</th>        <th class=\"col_heading level1 col3\" colspan=2>Velocity</th>        <th class=\"col_heading level1 col5\" colspan=2>Tilting</th>        <th class=\"col_heading level1 col7\" colspan=2>Ground contact</th>        <th class=\"col_heading level1 col9\" >Distance from landing pad</th>        <th class=\"col_heading level1 col10\" >Velocity</th>        <th class=\"col_heading level1 col11\" >Tilting Angle (absolute value)</th>    </tr>    <tr>        <th class=\"blank level2\" ></th>        <th class=\"col_heading level2 col0\" ></th>        <th class=\"col_heading level2 col1\" >X (Horizontal)</th>        <th class=\"col_heading level2 col2\" >Y (Vertical)</th>        <th class=\"col_heading level2 col3\" >X (Horizontal)</th>        <th class=\"col_heading level2 col4\" >Y (Vertical)</th>        <th class=\"col_heading level2 col5\" >Angle</th>        <th class=\"col_heading level2 col6\" >Angular Velocity</th>        <th class=\"col_heading level2 col7\" >Left Leg?</th>        <th class=\"col_heading level2 col8\" >Right Leg?</th>        <th class=\"col_heading level2 col9\" ></th>        <th class=\"col_heading level2 col10\" ></th>        <th class=\"col_heading level2 col11\" ></th>    </tr></thead><tbody>\n",
       "                <tr>\n",
       "                        <th id=\"T_43cf5ed2_e9af_11ee_94b3_0242ac120019level0_row0\" class=\"row_heading level0 row0\" >Current State</th>\n",
       "                        <td id=\"T_43cf5ed2_e9af_11ee_94b3_0242ac120019row0_col0\" class=\"data row0 col0\" ></td>\n",
       "                        <td id=\"T_43cf5ed2_e9af_11ee_94b3_0242ac120019row0_col1\" class=\"data row0 col1\" >0.003839</td>\n",
       "                        <td id=\"T_43cf5ed2_e9af_11ee_94b3_0242ac120019row0_col2\" class=\"data row0 col2\" >1.433103</td>\n",
       "                        <td id=\"T_43cf5ed2_e9af_11ee_94b3_0242ac120019row0_col3\" class=\"data row0 col3\" >0.194137</td>\n",
       "                        <td id=\"T_43cf5ed2_e9af_11ee_94b3_0242ac120019row0_col4\" class=\"data row0 col4\" >0.480094</td>\n",
       "                        <td id=\"T_43cf5ed2_e9af_11ee_94b3_0242ac120019row0_col5\" class=\"data row0 col5\" >-0.004393</td>\n",
       "                        <td id=\"T_43cf5ed2_e9af_11ee_94b3_0242ac120019row0_col6\" class=\"data row0 col6\" >-0.043519</td>\n",
       "                        <td id=\"T_43cf5ed2_e9af_11ee_94b3_0242ac120019row0_col7\" class=\"data row0 col7\" >False</td>\n",
       "                        <td id=\"T_43cf5ed2_e9af_11ee_94b3_0242ac120019row0_col8\" class=\"data row0 col8\" >False</td>\n",
       "                        <td id=\"T_43cf5ed2_e9af_11ee_94b3_0242ac120019row0_col9\" class=\"data row0 col9\" >1.433108</td>\n",
       "                        <td id=\"T_43cf5ed2_e9af_11ee_94b3_0242ac120019row0_col10\" class=\"data row0 col10\" >0.517860</td>\n",
       "                        <td id=\"T_43cf5ed2_e9af_11ee_94b3_0242ac120019row0_col11\" class=\"data row0 col11\" >0.004393</td>\n",
       "            </tr>\n",
       "            <tr>\n",
       "                        <th id=\"T_43cf5ed2_e9af_11ee_94b3_0242ac120019level0_row1\" class=\"row_heading level0 row1\" >Action</th>\n",
       "                        <td id=\"T_43cf5ed2_e9af_11ee_94b3_0242ac120019row1_col0\" class=\"data row1 col0\" >Do nothing</td>\n",
       "                        <td id=\"T_43cf5ed2_e9af_11ee_94b3_0242ac120019row1_col1\" class=\"data row1 col1\" ></td>\n",
       "                        <td id=\"T_43cf5ed2_e9af_11ee_94b3_0242ac120019row1_col2\" class=\"data row1 col2\" ></td>\n",
       "                        <td id=\"T_43cf5ed2_e9af_11ee_94b3_0242ac120019row1_col3\" class=\"data row1 col3\" ></td>\n",
       "                        <td id=\"T_43cf5ed2_e9af_11ee_94b3_0242ac120019row1_col4\" class=\"data row1 col4\" ></td>\n",
       "                        <td id=\"T_43cf5ed2_e9af_11ee_94b3_0242ac120019row1_col5\" class=\"data row1 col5\" ></td>\n",
       "                        <td id=\"T_43cf5ed2_e9af_11ee_94b3_0242ac120019row1_col6\" class=\"data row1 col6\" ></td>\n",
       "                        <td id=\"T_43cf5ed2_e9af_11ee_94b3_0242ac120019row1_col7\" class=\"data row1 col7\" ></td>\n",
       "                        <td id=\"T_43cf5ed2_e9af_11ee_94b3_0242ac120019row1_col8\" class=\"data row1 col8\" ></td>\n",
       "                        <td id=\"T_43cf5ed2_e9af_11ee_94b3_0242ac120019row1_col9\" class=\"data row1 col9\" ></td>\n",
       "                        <td id=\"T_43cf5ed2_e9af_11ee_94b3_0242ac120019row1_col10\" class=\"data row1 col10\" ></td>\n",
       "                        <td id=\"T_43cf5ed2_e9af_11ee_94b3_0242ac120019row1_col11\" class=\"data row1 col11\" ></td>\n",
       "            </tr>\n",
       "            <tr>\n",
       "                        <th id=\"T_43cf5ed2_e9af_11ee_94b3_0242ac120019level0_row2\" class=\"row_heading level0 row2\" >Next State</th>\n",
       "                        <td id=\"T_43cf5ed2_e9af_11ee_94b3_0242ac120019row2_col0\" class=\"data row2 col0\" ></td>\n",
       "                        <td id=\"T_43cf5ed2_e9af_11ee_94b3_0242ac120019row2_col1\" class=\"data row2 col1\" >0.005758</td>\n",
       "                        <td id=\"T_43cf5ed2_e9af_11ee_94b3_0242ac120019row2_col2\" class=\"data row2 col2\" >1.443307</td>\n",
       "                        <td id=\"T_43cf5ed2_e9af_11ee_94b3_0242ac120019row2_col3\" class=\"data row2 col3\" >0.194144</td>\n",
       "                        <td id=\"T_43cf5ed2_e9af_11ee_94b3_0242ac120019row2_col4\" class=\"data row2 col4\" >0.453481</td>\n",
       "                        <td id=\"T_43cf5ed2_e9af_11ee_94b3_0242ac120019row2_col5\" class=\"data row2 col5\" >-0.006568</td>\n",
       "                        <td id=\"T_43cf5ed2_e9af_11ee_94b3_0242ac120019row2_col6\" class=\"data row2 col6\" >-0.043497</td>\n",
       "                        <td id=\"T_43cf5ed2_e9af_11ee_94b3_0242ac120019row2_col7\" class=\"data row2 col7\" >False</td>\n",
       "                        <td id=\"T_43cf5ed2_e9af_11ee_94b3_0242ac120019row2_col8\" class=\"data row2 col8\" >False</td>\n",
       "                        <td id=\"T_43cf5ed2_e9af_11ee_94b3_0242ac120019row2_col9\" class=\"data row2 col9\" >1.443318</td>\n",
       "                        <td id=\"T_43cf5ed2_e9af_11ee_94b3_0242ac120019row2_col10\" class=\"data row2 col10\" >0.493292</td>\n",
       "                        <td id=\"T_43cf5ed2_e9af_11ee_94b3_0242ac120019row2_col11\" class=\"data row2 col11\" >0.006568</td>\n",
       "            </tr>\n",
       "            <tr>\n",
       "                        <th id=\"T_43cf5ed2_e9af_11ee_94b3_0242ac120019level0_row3\" class=\"row_heading level0 row3\" >Reward</th>\n",
       "                        <td id=\"T_43cf5ed2_e9af_11ee_94b3_0242ac120019row3_col0\" class=\"data row3 col0\" >1.218346</td>\n",
       "                        <td id=\"T_43cf5ed2_e9af_11ee_94b3_0242ac120019row3_col1\" class=\"data row3 col1\" ></td>\n",
       "                        <td id=\"T_43cf5ed2_e9af_11ee_94b3_0242ac120019row3_col2\" class=\"data row3 col2\" ></td>\n",
       "                        <td id=\"T_43cf5ed2_e9af_11ee_94b3_0242ac120019row3_col3\" class=\"data row3 col3\" ></td>\n",
       "                        <td id=\"T_43cf5ed2_e9af_11ee_94b3_0242ac120019row3_col4\" class=\"data row3 col4\" ></td>\n",
       "                        <td id=\"T_43cf5ed2_e9af_11ee_94b3_0242ac120019row3_col5\" class=\"data row3 col5\" ></td>\n",
       "                        <td id=\"T_43cf5ed2_e9af_11ee_94b3_0242ac120019row3_col6\" class=\"data row3 col6\" ></td>\n",
       "                        <td id=\"T_43cf5ed2_e9af_11ee_94b3_0242ac120019row3_col7\" class=\"data row3 col7\" ></td>\n",
       "                        <td id=\"T_43cf5ed2_e9af_11ee_94b3_0242ac120019row3_col8\" class=\"data row3 col8\" ></td>\n",
       "                        <td id=\"T_43cf5ed2_e9af_11ee_94b3_0242ac120019row3_col9\" class=\"data row3 col9\" ></td>\n",
       "                        <td id=\"T_43cf5ed2_e9af_11ee_94b3_0242ac120019row3_col10\" class=\"data row3 col10\" ></td>\n",
       "                        <td id=\"T_43cf5ed2_e9af_11ee_94b3_0242ac120019row3_col11\" class=\"data row3 col11\" ></td>\n",
       "            </tr>\n",
       "            <tr>\n",
       "                        <th id=\"T_43cf5ed2_e9af_11ee_94b3_0242ac120019level0_row4\" class=\"row_heading level0 row4\" >Episode Terminated</th>\n",
       "                        <td id=\"T_43cf5ed2_e9af_11ee_94b3_0242ac120019row4_col0\" class=\"data row4 col0\" >False</td>\n",
       "                        <td id=\"T_43cf5ed2_e9af_11ee_94b3_0242ac120019row4_col1\" class=\"data row4 col1\" ></td>\n",
       "                        <td id=\"T_43cf5ed2_e9af_11ee_94b3_0242ac120019row4_col2\" class=\"data row4 col2\" ></td>\n",
       "                        <td id=\"T_43cf5ed2_e9af_11ee_94b3_0242ac120019row4_col3\" class=\"data row4 col3\" ></td>\n",
       "                        <td id=\"T_43cf5ed2_e9af_11ee_94b3_0242ac120019row4_col4\" class=\"data row4 col4\" ></td>\n",
       "                        <td id=\"T_43cf5ed2_e9af_11ee_94b3_0242ac120019row4_col5\" class=\"data row4 col5\" ></td>\n",
       "                        <td id=\"T_43cf5ed2_e9af_11ee_94b3_0242ac120019row4_col6\" class=\"data row4 col6\" ></td>\n",
       "                        <td id=\"T_43cf5ed2_e9af_11ee_94b3_0242ac120019row4_col7\" class=\"data row4 col7\" ></td>\n",
       "                        <td id=\"T_43cf5ed2_e9af_11ee_94b3_0242ac120019row4_col8\" class=\"data row4 col8\" ></td>\n",
       "                        <td id=\"T_43cf5ed2_e9af_11ee_94b3_0242ac120019row4_col9\" class=\"data row4 col9\" ></td>\n",
       "                        <td id=\"T_43cf5ed2_e9af_11ee_94b3_0242ac120019row4_col10\" class=\"data row4 col10\" ></td>\n",
       "                        <td id=\"T_43cf5ed2_e9af_11ee_94b3_0242ac120019row4_col11\" class=\"data row4 col11\" ></td>\n",
       "            </tr>\n",
       "    </tbody></table>"
      ],
      "text/plain": [
       "<pandas.io.formats.style.Styler at 0x7f0784847d90>"
      ]
     },
     "metadata": {},
     "output_type": "display_data"
    }
   ],
   "source": [
    "# Select an action\n",
    "action = 0\n",
    "\n",
    "# Run a single time step of the environment's dynamics with the given action.\n",
    "next_state, reward, done, _ = env.step(action)\n",
    "\n",
    "# Display table with values.\n",
    "utils.display_table(current_state, action, next_state, reward, done)\n",
    "\n",
    "# Replace the `current_state` with the state after the action is taken\n",
    "current_state = next_state"
   ]
  },
  {
   "cell_type": "markdown",
   "metadata": {},
   "source": [
    "In practice, when we train the agent we use a loop to allow the agent to take many consecutive actions during an episode."
   ]
  },
  {
   "cell_type": "markdown",
   "metadata": {},
   "source": [
    "<a name=\"6\"></a>\n",
    "## 6 - Deep Q-Learning\n",
    "\n",
    "In cases where both the state and action space are discrete we can estimate the action-value function iteratively by using the Bellman equation:\n",
    "\n",
    "$$\n",
    "Q_{i+1}(s,a) = R + \\gamma \\max_{a'}Q_i(s',a')\n",
    "$$\n",
    "\n",
    "This iterative method converges to the optimal action-value function $Q^*(s,a)$ as $i\\to\\infty$. This means that the agent just needs to gradually explore the state-action space and keep updating the estimate of $Q(s,a)$ until it converges to the optimal action-value function $Q^*(s,a)$. However, in cases where the state space is continuous it becomes practically impossible to explore the entire state-action space. Consequently, this also makes it practically impossible to gradually estimate $Q(s,a)$ until it converges to $Q^*(s,a)$.\n",
    "\n",
    "In the Deep $Q$-Learning, we solve this problem by using a neural network to estimate the action-value function $Q(s,a)\\approx Q^*(s,a)$. We call this neural network a $Q$-Network and it can be trained by adjusting its weights at each iteration to minimize the mean-squared error in the Bellman equation.\n",
    "\n",
    "Unfortunately, using neural networks in reinforcement learning to estimate action-value functions has proven to be highly unstable. Luckily, there's a couple of techniques that can be employed to avoid instabilities. These techniques consist of using a ***Target Network*** and ***Experience Replay***. We will explore these two techniques in the following sections."
   ]
  },
  {
   "cell_type": "markdown",
   "metadata": {},
   "source": [
    "<a name=\"6.1\"></a>\n",
    "### 6.1 Target Network\n",
    "\n",
    "We can train the $Q$-Network by adjusting it's weights at each iteration to minimize the mean-squared error in the Bellman equation, where the target values are given by:\n",
    "\n",
    "$$\n",
    "y = R + \\gamma \\max_{a'}Q(s',a';w)\n",
    "$$\n",
    "\n",
    "where $w$ are the weights of the $Q$-Network. This means that we are adjusting the weights $w$ at each iteration to minimize the following error:\n",
    "\n",
    "$$\n",
    "\\overbrace{\\underbrace{R + \\gamma \\max_{a'}Q(s',a'; w)}_{\\rm {y~target}} - Q(s,a;w)}^{\\rm {Error}}\n",
    "$$\n",
    "\n",
    "Notice that this forms a problem because the $y$ target is changing on every iteration. Having a constantly moving target can lead to oscillations and instabilities. To avoid this, we can create\n",
    "a separate neural network for generating the $y$ targets. We call this separate neural network the **target $\\hat Q$-Network** and it will have the same architecture as the original $Q$-Network. By using the target $\\hat Q$-Network, the above error becomes:\n",
    "\n",
    "$$\n",
    "\\overbrace{\\underbrace{R + \\gamma \\max_{a'}\\hat{Q}(s',a'; w^-)}_{\\rm {y~target}} - Q(s,a;w)}^{\\rm {Error}}\n",
    "$$\n",
    "\n",
    "where $w^-$ and $w$ are the weights of the target $\\hat Q$-Network and $Q$-Network, respectively.\n",
    "\n",
    "In practice, we will use the following algorithm: every $C$ time steps we will use the $\\hat Q$-Network to generate the $y$ targets and update the weights of the target $\\hat Q$-Network using the weights of the $Q$-Network. We will update the weights $w^-$ of the the target $\\hat Q$-Network using a **soft update**. This means that we will update the weights $w^-$ using the following rule:\n",
    " \n",
    "$$\n",
    "w^-\\leftarrow \\tau w + (1 - \\tau) w^-\n",
    "$$\n",
    "\n",
    "where $\\tau\\ll 1$. By using the soft update, we are ensuring that the target values, $y$, change slowly, which greatly improves the stability of our learning algorithm."
   ]
  },
  {
   "cell_type": "markdown",
   "metadata": {},
   "source": [
    "<a name=\"ex01\"></a>\n",
    "### Exercise 1\n",
    "\n",
    "In this exercise you will create the $Q$ and target $\\hat Q$ networks and set the optimizer. Remember that the Deep $Q$-Network (DQN) is a neural network that approximates the action-value function $Q(s,a)\\approx Q^*(s,a)$. It does this by learning how to map states to $Q$ values.\n",
    "\n",
    "To solve the Lunar Lander environment, we are going to employ a DQN with the following architecture:\n",
    "\n",
    "* An `Input` layer that takes `state_size` as input.\n",
    "\n",
    "* A `Dense` layer with `64` units and a `relu` activation function.\n",
    "\n",
    "* A `Dense` layer with `64` units and a `relu` activation function.\n",
    "\n",
    "* A `Dense` layer with `num_actions` units and a `linear` activation function. This will be the output layer of our network.\n",
    "\n",
    "\n",
    "In the cell below you should create the $Q$-Network and the target $\\hat Q$-Network using the model architecture described above. Remember that both the $Q$-Network and the target $\\hat Q$-Network have the same architecture.\n",
    "\n",
    "Lastly, you should set `Adam` as the optimizer with a learning rate equal to `ALPHA`. Recall that `ALPHA` was defined in the [Hyperparameters](#2) section. We should note that for this exercise you should use the already imported packages:\n",
    "```python\n",
    "from tensorflow.keras.layers import Dense, Input\n",
    "from tensorflow.keras.optimizers import Adam\n",
    "```"
   ]
  },
  {
   "cell_type": "code",
   "execution_count": 19,
   "metadata": {
    "deletable": false
   },
   "outputs": [],
   "source": [
    "# UNQ_C1\n",
    "# GRADED CELL\n",
    "\n",
    "# Create the Q-Network\n",
    "q_network = Sequential([\n",
    "    ### START CODE HERE ### \n",
    "    Input(shape=state_size),\n",
    "    Dense(units=64, activation='relu'),\n",
    "    Dense(units=64, activation='relu'),\n",
    "    Dense(units=num_actions, activation='linear'),\n",
    "    ### END CODE HERE ### \n",
    "    ])\n",
    "\n",
    "# Create the target Q^-Network\n",
    "target_q_network = Sequential([\n",
    "    ### START CODE HERE ### \n",
    "    Input(shape=state_size),\n",
    "    Dense(units=64, activation='relu'),\n",
    "    Dense(units=64, activation='relu'),\n",
    "    Dense(units=num_actions, activation='linear'),\n",
    "    ### END CODE HERE ###\n",
    "    ])\n",
    "\n",
    "### START CODE HERE ### \n",
    "optimizer = Adam(learning_rate=ALPHA)\n",
    "### END CODE HERE ###"
   ]
  },
  {
   "cell_type": "code",
   "execution_count": 20,
   "metadata": {
    "deletable": false,
    "editable": false
   },
   "outputs": [
    {
     "name": "stdout",
     "output_type": "stream",
     "text": [
      "\u001b[92mAll tests passed!\n",
      "\u001b[92mAll tests passed!\n",
      "\u001b[92mAll tests passed!\n"
     ]
    }
   ],
   "source": [
    "# UNIT TEST\n",
    "from public_tests import *\n",
    "\n",
    "test_network(q_network)\n",
    "test_network(target_q_network)\n",
    "test_optimizer(optimizer, ALPHA) "
   ]
  },
  {
   "cell_type": "markdown",
   "metadata": {},
   "source": [
    "<details>\n",
    "  <summary><font size=\"3\" color=\"darkgreen\"><b>Click for hints</b></font></summary>\n",
    "    \n",
    "```python\n",
    "# Create the Q-Network\n",
    "q_network = Sequential([\n",
    "    Input(shape=state_size),                      \n",
    "    Dense(units=64, activation='relu'),            \n",
    "    Dense(units=64, activation='relu'),            \n",
    "    Dense(units=num_actions, activation='linear'),\n",
    "    ])\n",
    "\n",
    "# Create the target Q^-Network\n",
    "target_q_network = Sequential([\n",
    "    Input(shape=state_size),                       \n",
    "    Dense(units=64, activation='relu'),            \n",
    "    Dense(units=64, activation='relu'),            \n",
    "    Dense(units=num_actions, activation='linear'), \n",
    "    ])\n",
    "\n",
    "optimizer = Adam(learning_rate=ALPHA)                                  \n",
    "``` "
   ]
  },
  {
   "cell_type": "markdown",
   "metadata": {},
   "source": [
    "<a name=\"6.2\"></a>\n",
    "### 6.2 Experience Replay\n",
    "\n",
    "When an agent interacts with the environment, the states, actions, and rewards the agent experiences are sequential by nature. If the agent tries to learn from these consecutive experiences it can run into problems due to the strong correlations between them. To avoid this, we employ a technique known as **Experience Replay** to generate uncorrelated experiences for training our agent. Experience replay consists of storing the agent's experiences (i.e the states, actions, and rewards the agent receives) in a memory buffer and then sampling a random mini-batch of experiences from the buffer to do the learning. The experience tuples $(S_t, A_t, R_t, S_{t+1})$ will be added to the memory buffer at each time step as the agent interacts with the environment.\n",
    "\n",
    "For convenience, we will store the experiences as named tuples."
   ]
  },
  {
   "cell_type": "code",
   "execution_count": 21,
   "metadata": {
    "deletable": false,
    "editable": false
   },
   "outputs": [],
   "source": [
    "# Store experiences as named tuples\n",
    "experience = namedtuple(\"Experience\", field_names=[\"state\", \"action\", \"reward\", \"next_state\", \"done\"])"
   ]
  },
  {
   "cell_type": "markdown",
   "metadata": {},
   "source": [
    "By using experience replay we avoid problematic correlations, oscillations and instabilities. In addition, experience replay also allows the agent to potentially use the same experience in multiple weight updates, which increases data efficiency."
   ]
  },
  {
   "cell_type": "markdown",
   "metadata": {},
   "source": [
    "<a name=\"7\"></a>\n",
    "## 7 - Deep Q-Learning Algorithm with Experience Replay\n",
    "\n",
    "Now that we know all the techniques that we are going to use, we can put them together to arrive at the Deep Q-Learning Algorithm With Experience Replay.\n",
    "<br>\n",
    "<br>\n",
    "<figure>\n",
    "  <img src = \"images/deep_q_algorithm.png\" width = 90% style = \"border: thin silver solid; padding: 0px\">\n",
    "      <figcaption style = \"text-align: center; font-style: italic\">Fig 3. Deep Q-Learning with Experience Replay.</figcaption>\n",
    "</figure>"
   ]
  },
  {
   "cell_type": "markdown",
   "metadata": {},
   "source": [
    "<a name=\"ex02\"></a>\n",
    "### Exercise 2\n",
    "\n",
    "In this exercise you will implement line ***12*** of the algorithm outlined in *Fig 3* above and you will also compute the loss between the $y$ targets and the $Q(s,a)$ values. In the cell below, complete the `compute_loss` function by setting the $y$ targets equal to:\n",
    "\n",
    "$$\n",
    "\\begin{equation}\n",
    "    y_j =\n",
    "    \\begin{cases}\n",
    "      R_j & \\text{if episode terminates at step  } j+1\\\\\n",
    "      R_j + \\gamma \\max_{a'}\\hat{Q}(s_{j+1},a') & \\text{otherwise}\\\\\n",
    "    \\end{cases}       \n",
    "\\end{equation}\n",
    "$$\n",
    "\n",
    "Here are a couple of things to note:\n",
    "\n",
    "* The `compute_loss` function takes in a mini-batch of experience tuples. This mini-batch of experience tuples is unpacked to extract the `states`, `actions`, `rewards`, `next_states`, and `done_vals`. You should keep in mind that these variables are *TensorFlow Tensors* whose size will depend on the mini-batch size. For example, if the mini-batch size is `64` then both `rewards` and `done_vals` will be TensorFlow Tensors with `64` elements.\n",
    "\n",
    "\n",
    "* Using `if/else` statements to set the $y$ targets will not work when the variables are tensors with many elements. However, notice that you can use the `done_vals` to implement the above in a single line of code. To do this, recall that the `done` variable is a Boolean variable that takes the value `True` when an episode terminates at step $j+1$ and it is `False` otherwise. Taking into account that a Boolean value of `True` has the numerical value of `1` and a Boolean value of `False` has the numerical value of `0`, you can use the factor `(1 - done_vals)` to implement the above in a single line of code. Here's a hint: notice that `(1 - done_vals)` has a value of `0` when `done_vals` is `True` and a value of `1` when `done_vals` is `False`. \n",
    "\n",
    "Lastly, compute the loss by calculating the Mean-Squared Error (`MSE`) between the `y_targets` and the `q_values`. To calculate the mean-squared error you should use the already imported package `MSE`:\n",
    "```python\n",
    "from tensorflow.keras.losses import MSE\n",
    "```"
   ]
  },
  {
   "cell_type": "code",
   "execution_count": 24,
   "metadata": {
    "deletable": false
   },
   "outputs": [],
   "source": [
    "# UNQ_C2\n",
    "# GRADED FUNCTION: calculate_loss\n",
    "\n",
    "def compute_loss(experiences, gamma, q_network, target_q_network):\n",
    "    \"\"\" \n",
    "    Calculates the loss.\n",
    "    \n",
    "    Args:\n",
    "      experiences: (tuple) tuple of [\"state\", \"action\", \"reward\", \"next_state\", \"done\"] namedtuples\n",
    "      gamma: (float) The discount factor.\n",
    "      q_network: (tf.keras.Sequential) Keras model for predicting the q_values\n",
    "      target_q_network: (tf.keras.Sequential) Keras model for predicting the targets\n",
    "          \n",
    "    Returns:\n",
    "      loss: (TensorFlow Tensor(shape=(0,), dtype=int32)) the Mean-Squared Error between\n",
    "            the y targets and the Q(s,a) values.\n",
    "    \"\"\"\n",
    "\n",
    "    # Unpack the mini-batch of experience tuples\n",
    "    states, actions, rewards, next_states, done_vals = experiences\n",
    "    \n",
    "    # Compute max Q^(s,a)\n",
    "    max_qsa = tf.reduce_max(target_q_network(next_states), axis=-1)\n",
    "    \n",
    "    # Set y = R if episode terminates, otherwise set y = R + γ max Q^(s,a).\n",
    "    \n",
    "    ### START CODE HERE ### \n",
    "    y_targets = rewards + (gamma * max_qsa * (1 - done_vals))\n",
    "    ### END CODE HERE ###\n",
    "    \n",
    "    # Get the q_values and reshape to match y_targets\n",
    "    q_values = q_network(states)\n",
    "    q_values = tf.gather_nd(q_values, tf.stack([tf.range(q_values.shape[0]),\n",
    "                                                tf.cast(actions, tf.int32)], axis=1))\n",
    "        \n",
    "    # Compute the loss\n",
    "    ### START CODE HERE ### \n",
    "    loss = MSE(q_values, y_targets)\n",
    "    ### END CODE HERE ### \n",
    "    \n",
    "    return loss"
   ]
  },
  {
   "cell_type": "code",
   "execution_count": 25,
   "metadata": {
    "deletable": false,
    "editable": false
   },
   "outputs": [
    {
     "name": "stdout",
     "output_type": "stream",
     "text": [
      "\u001b[92mAll tests passed!\n"
     ]
    }
   ],
   "source": [
    "# UNIT TEST    \n",
    "test_compute_loss(compute_loss)"
   ]
  },
  {
   "cell_type": "markdown",
   "metadata": {},
   "source": [
    "<details>\n",
    "  <summary><font size=\"3\" color=\"darkgreen\"><b>Click for hints</b></font></summary>\n",
    "    \n",
    "```python\n",
    "def compute_loss(experiences, gamma, q_network, target_q_network):\n",
    "    \"\"\" \n",
    "    Calculates the loss.\n",
    "    \n",
    "    Args:\n",
    "      experiences: (tuple) tuple of [\"state\", \"action\", \"reward\", \"next_state\", \"done\"] namedtuples\n",
    "      gamma: (float) The discount factor.\n",
    "      q_network: (tf.keras.Sequential) Keras model for predicting the q_values\n",
    "      target_q_network: (tf.keras.Sequential) Keras model for predicting the targets\n",
    "          \n",
    "    Returns:\n",
    "      loss: (TensorFlow Tensor(shape=(0,), dtype=int32)) the Mean-Squared Error between\n",
    "            the y targets and the Q(s,a) values.\n",
    "    \"\"\"\n",
    "\n",
    "    \n",
    "    # Unpack the mini-batch of experience tuples\n",
    "    states, actions, rewards, next_states, done_vals = experiences\n",
    "    \n",
    "    # Compute max Q^(s,a)\n",
    "    max_qsa = tf.reduce_max(target_q_network(next_states), axis=-1)\n",
    "    \n",
    "    # Set y = R if episode terminates, otherwise set y = R + γ max Q^(s,a).\n",
    "    y_targets = rewards + (gamma * max_qsa * (1 - done_vals))\n",
    "    \n",
    "    # Get the q_values\n",
    "    q_values = q_network(states)\n",
    "    q_values = tf.gather_nd(q_values, tf.stack([tf.range(q_values.shape[0]),\n",
    "                                                tf.cast(actions, tf.int32)], axis=1))\n",
    "    \n",
    "    # Calculate the loss\n",
    "    loss = MSE(y_targets, q_values)\n",
    "    \n",
    "    return loss\n",
    "\n",
    "``` \n",
    "    "
   ]
  },
  {
   "cell_type": "markdown",
   "metadata": {},
   "source": [
    "<a name=\"8\"></a>\n",
    "## 8 - Update the Network Weights\n",
    "\n",
    "We will use the `agent_learn` function below to implement lines ***12 -14*** of the algorithm outlined in [Fig 3](#7). The `agent_learn` function will update the weights of the $Q$ and target $\\hat Q$ networks using a custom training loop. Because we are using a custom training loop we need to retrieve the gradients via a `tf.GradientTape` instance, and then call `optimizer.apply_gradients()` to update the weights of our $Q$-Network. Note that we are also using the `@tf.function` decorator to increase performance. Without this decorator our training will take twice as long. If you would like to know more about how to increase performance with `@tf.function` take a look at the [TensorFlow documentation](https://www.tensorflow.org/guide/function).\n",
    "\n",
    "The last line of this function updates the weights of the target $\\hat Q$-Network using a [soft update](#6.1). If you want to know how this is implemented in code we encourage you to take a look at the `utils.update_target_network` function in the `utils` module."
   ]
  },
  {
   "cell_type": "code",
   "execution_count": 31,
   "metadata": {
    "deletable": false,
    "editable": false
   },
   "outputs": [],
   "source": [
    "@tf.function\n",
    "def agent_learn(experiences, gamma):\n",
    "    \"\"\"\n",
    "    Updates the weights of the Q networks.\n",
    "    \n",
    "    Args:\n",
    "      experiences: (tuple) tuple of [\"state\", \"action\", \"reward\", \"next_state\", \"done\"] namedtuples\n",
    "      gamma: (float) The discount factor.\n",
    "    \n",
    "    \"\"\"\n",
    "    \n",
    "    # Calculate the loss\n",
    "    with tf.GradientTape() as tape:\n",
    "        loss = compute_loss(experiences, gamma, q_network, target_q_network)\n",
    "\n",
    "    # Get the gradients of the loss with respect to the weights.\n",
    "    gradients = tape.gradient(loss, q_network.trainable_variables)\n",
    "    \n",
    "    # Update the weights of the q_network.\n",
    "    optimizer.apply_gradients(zip(gradients, q_network.trainable_variables))\n",
    "\n",
    "    # update the weights of target q_network\n",
    "    utils.update_target_network(q_network, target_q_network)"
   ]
  },
  {
   "cell_type": "markdown",
   "metadata": {},
   "source": [
    "<a name=\"9\"></a>\n",
    "## 9 - Train the Agent\n",
    "\n",
    "We are now ready to train our agent to solve the Lunar Lander environment. In the cell below we will implement the algorithm in [Fig 3](#7) line by line (please note that we have included the same algorithm below for easy reference. This will prevent you from scrolling up and down the notebook):\n",
    "\n",
    "* **Line 1**: We initialize the `memory_buffer` with a capacity of $N =$ `MEMORY_SIZE`. Notice that we are using a `deque` as the data structure for our `memory_buffer`.\n",
    "\n",
    "\n",
    "* **Line 2**: We skip this line since we already initialized the `q_network` in [Exercise 1](#ex01).\n",
    "\n",
    "\n",
    "* **Line 3**: We initialize the `target_q_network` by setting its weights to be equal to those of the `q_network`.\n",
    "\n",
    "\n",
    "* **Line 4**: We start the outer loop. Notice that we have set $M =$ `num_episodes = 2000`. This number is reasonable because the agent should be able to solve the Lunar Lander environment in less than `2000` episodes using this notebook's default parameters.\n",
    "\n",
    "\n",
    "* **Line 5**: We use the `.reset()` method to reset the environment to the initial state and get the initial state.\n",
    "\n",
    "\n",
    "* **Line 6**: We start the inner loop. Notice that we have set $T =$ `max_num_timesteps = 1000`. This means that the episode will automatically terminate if the episode hasn't terminated after `1000` time steps.\n",
    "\n",
    "\n",
    "* **Line 7**: The agent observes the current `state` and chooses an `action` using an $\\epsilon$-greedy policy. Our agent starts out using a value of $\\epsilon =$ `epsilon = 1` which yields an $\\epsilon$-greedy policy that is equivalent to the equiprobable random policy. This means that at the beginning of our training, the agent is just going to take random actions regardless of the observed `state`. As training progresses we will decrease the value of $\\epsilon$ slowly towards a minimum value using a given $\\epsilon$-decay rate. We want this minimum value to be close to zero because a value of $\\epsilon = 0$ will yield an $\\epsilon$-greedy policy that is equivalent to the greedy policy. This means that towards the end of training, the agent will lean towards selecting the `action` that it believes (based on its past experiences) will maximize $Q(s,a)$. We will set the minimum $\\epsilon$ value to be `0.01` and not exactly 0 because we always want to keep a little bit of exploration during training. If you want to know how this is implemented in code we encourage you to take a look at the `utils.get_action` function in the `utils` module.\n",
    "\n",
    "\n",
    "* **Line 8**: We use the `.step()` method to take the given `action` in the environment and get the `reward` and the `next_state`. \n",
    "\n",
    "\n",
    "* **Line 9**: We store the `experience(state, action, reward, next_state, done)` tuple in our `memory_buffer`. Notice that we also store the `done` variable so that we can keep track of when an episode terminates. This allowed us to set the $y$ targets in [Exercise 2](#ex02).\n",
    "\n",
    "\n",
    "* **Line 10**: We check if the conditions are met to perform a learning update. We do this by using our custom `utils.check_update_conditions` function. This function checks if $C =$ `NUM_STEPS_FOR_UPDATE = 4` time steps have occured and if our `memory_buffer` has enough experience tuples to fill a mini-batch. For example, if the mini-batch size is `64`, then our `memory_buffer` should have more than `64` experience tuples in order to pass the latter condition. If the conditions are met, then the `utils.check_update_conditions` function will return a value of `True`, otherwise it will return a value of `False`.\n",
    "\n",
    "\n",
    "* **Lines 11 - 14**: If the `update` variable is `True` then we perform a learning update. The learning update consists of sampling a random mini-batch of experience tuples from our `memory_buffer`, setting the $y$ targets, performing gradient descent, and updating the weights of the networks. We will use the `agent_learn` function we defined in [Section 8](#8) to perform the latter 3.\n",
    "\n",
    "\n",
    "* **Line 15**: At the end of each iteration of the inner loop we set `next_state` as our new `state` so that the loop can start again from this new state. In addition, we check if the episode has reached a terminal state (i.e we check if `done = True`). If a terminal state has been reached, then we break out of the inner loop.\n",
    "\n",
    "\n",
    "* **Line 16**: At the end of each iteration of the outer loop we update the value of $\\epsilon$, and check if the environment has been solved. We consider that the environment has been solved if the agent receives an average of `200` points in the last `100` episodes. If the environment has not been solved we continue the outer loop and start a new episode.\n",
    "\n",
    "Finally, we wanted to note that we have included some extra variables to keep track of the total number of points the agent received in each episode. This will help us determine if the agent has solved the environment and it will also allow us to see how our agent performed during training. We also use the `time` module to measure how long the training takes. \n",
    "\n",
    "<br>\n",
    "<br>\n",
    "<figure>\n",
    "  <img src = \"images/deep_q_algorithm.png\" width = 90% style = \"border: thin silver solid; padding: 0px\">\n",
    "      <figcaption style = \"text-align: center; font-style: italic\">Fig 4. Deep Q-Learning with Experience Replay.</figcaption>\n",
    "</figure>\n",
    "<br>\n",
    "\n",
    "**Note:** With this notebook's default parameters, the following cell takes between 10 to 15 minutes to run. "
   ]
  },
  {
   "cell_type": "code",
   "execution_count": 27,
   "metadata": {
    "deletable": false,
    "editable": false
   },
   "outputs": [
    {
     "name": "stdout",
     "output_type": "stream",
     "text": [
      "Episode 100 | Total point average of the last 100 episodes: -154.07\n",
      "Episode 200 | Total point average of the last 100 episodes: -88.472\n",
      "Episode 300 | Total point average of the last 100 episodes: -62.55\n",
      "Episode 400 | Total point average of the last 100 episodes: -20.15\n",
      "Episode 500 | Total point average of the last 100 episodes: 64.894\n",
      "Episode 592 | Total point average of the last 100 episodes: 201.25\n",
      "\n",
      "Environment solved in 592 episodes!\n",
      "\n",
      "Total Runtime: 850.01 s (14.17 min)\n"
     ]
    }
   ],
   "source": [
    "start = time.time()\n",
    "\n",
    "num_episodes = 2000\n",
    "max_num_timesteps = 1000\n",
    "\n",
    "total_point_history = []\n",
    "\n",
    "num_p_av = 100    # number of total points to use for averaging\n",
    "epsilon = 1.0     # initial ε value for ε-greedy policy\n",
    "\n",
    "# Create a memory buffer D with capacity N\n",
    "memory_buffer = deque(maxlen=MEMORY_SIZE)\n",
    "\n",
    "# Set the target network weights equal to the Q-Network weights\n",
    "target_q_network.set_weights(q_network.get_weights())\n",
    "\n",
    "for i in range(num_episodes):\n",
    "    \n",
    "    # Reset the environment to the initial state and get the initial state\n",
    "    state = env.reset()\n",
    "    total_points = 0\n",
    "    \n",
    "    for t in range(max_num_timesteps):\n",
    "        \n",
    "        # From the current state S choose an action A using an ε-greedy policy\n",
    "        state_qn = np.expand_dims(state, axis=0)  # state needs to be the right shape for the q_network\n",
    "        q_values = q_network(state_qn)\n",
    "        action = utils.get_action(q_values, epsilon)\n",
    "        \n",
    "        # Take action A and receive reward R and the next state S'\n",
    "        next_state, reward, done, _ = env.step(action)\n",
    "        \n",
    "        # Store experience tuple (S,A,R,S') in the memory buffer.\n",
    "        # We store the done variable as well for convenience.\n",
    "        memory_buffer.append(experience(state, action, reward, next_state, done))\n",
    "        \n",
    "        # Only update the network every NUM_STEPS_FOR_UPDATE time steps.\n",
    "        update = utils.check_update_conditions(t, NUM_STEPS_FOR_UPDATE, memory_buffer)\n",
    "        \n",
    "        if update:\n",
    "            # Sample random mini-batch of experience tuples (S,A,R,S') from D\n",
    "            experiences = utils.get_experiences(memory_buffer)\n",
    "            \n",
    "            # Set the y targets, perform a gradient descent step,\n",
    "            # and update the network weights.\n",
    "            agent_learn(experiences, GAMMA)\n",
    "        \n",
    "        state = next_state.copy()\n",
    "        total_points += reward\n",
    "        \n",
    "        if done:\n",
    "            break\n",
    "            \n",
    "    total_point_history.append(total_points)\n",
    "    av_latest_points = np.mean(total_point_history[-num_p_av:])\n",
    "    \n",
    "    # Update the ε value\n",
    "    epsilon = utils.get_new_eps(epsilon)\n",
    "\n",
    "    print(f\"\\rEpisode {i+1} | Total point average of the last {num_p_av} episodes: {av_latest_points:.2f}\", end=\"\")\n",
    "\n",
    "    if (i+1) % num_p_av == 0:\n",
    "        print(f\"\\rEpisode {i+1} | Total point average of the last {num_p_av} episodes: {av_latest_points:.2f}\")\n",
    "\n",
    "    # We will consider that the environment is solved if we get an\n",
    "    # average of 200 points in the last 100 episodes.\n",
    "    if av_latest_points >= 200.0:\n",
    "        print(f\"\\n\\nEnvironment solved in {i+1} episodes!\")\n",
    "        q_network.save('lunar_lander_model.h5')\n",
    "        break\n",
    "        \n",
    "tot_time = time.time() - start\n",
    "\n",
    "print(f\"\\nTotal Runtime: {tot_time:.2f} s ({(tot_time/60):.2f} min)\")"
   ]
  },
  {
   "cell_type": "markdown",
   "metadata": {},
   "source": [
    "We can plot the total point history along with the moving average to see how our agent improved during training. If you want to know about the different plotting options available in the `utils.plot_history` function we encourage you to take a look at the `utils` module."
   ]
  },
  {
   "cell_type": "code",
   "execution_count": 28,
   "metadata": {
    "deletable": false,
    "editable": false,
    "id": "E_EUXxurfe8m",
    "scrolled": false
   },
   "outputs": [
    {
     "data": {
      "image/png": "[encoded data removed]",
      "text/plain": [
       "<Figure size 720x504 with 1 Axes>"
      ]
     },
     "metadata": {},
     "output_type": "display_data"
    }
   ],
   "source": [
    "# Plot the total point history along with the moving average\n",
    "utils.plot_history(total_point_history)"
   ]
  },
  {
   "cell_type": "markdown",
   "metadata": {
    "id": "c_xwgaX5MnYt"
   },
   "source": [
    "<a name=\"10\"></a>\n",
    "## 10 - See the Trained Agent In Action\n",
    "\n",
    "Now that we have trained our agent, we can see it in action. We will use the `utils.create_video` function to create a video of our agent interacting with the environment using the trained $Q$-Network. The `utils.create_video` function uses the `imageio` library to create the video. This library produces some warnings that can be distracting, so, to suppress these warnings we run the code below."
   ]
  },
  {
   "cell_type": "code",
   "execution_count": 29,
   "metadata": {
    "deletable": false,
    "editable": false
   },
   "outputs": [],
   "source": [
    "# Suppress warnings from imageio\n",
    "import logging\n",
    "logging.getLogger().setLevel(logging.ERROR)"
   ]
  },
  {
   "cell_type": "markdown",
   "metadata": {},
   "source": [
    "In the cell below we create a video of our agent interacting with the Lunar Lander environment using the trained `q_network`. The video is saved to the `videos` folder with the given `filename`. We use the `utils.embed_mp4` function to embed the video in the Jupyter Notebook so that we can see it here directly without having to download it.\n",
    "\n",
    "We should note that since the lunar lander starts with a random initial force applied to its center of mass, every time you run the cell below you will see a different video. If the agent was trained properly, it should be able to land the lunar lander in the landing pad every time, regardless of the initial force applied to its center of mass."
   ]
  },
  {
   "cell_type": "code",
   "execution_count": 30,
   "metadata": {
    "deletable": false,
    "editable": false,
    "id": "3Ttb_zLeJKiG"
   },
   "outputs": [
    {
     "data": {
      "text/html": [
       "\n",
       "    <video width=\"840\" height=\"480\" controls>\n",
       "    <source src=\"data:video/mp4;base64,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\" type=\"video/mp4\">\n",
       "    Your browser does not support the video tag.\n",
       "    </video>"
      ],
      "text/plain": [
       "<IPython.core.display.HTML object>"
      ]
     },
     "execution_count": 30,
     "metadata": {},
     "output_type": "execute_result"
    }
   ],
   "source": [
    "filename = \"./videos/lunar_lander.mp4\"\n",
    "\n",
    "utils.create_video(filename, env, q_network)\n",
    "utils.embed_mp4(filename)"
   ]
  },
  {
   "cell_type": "markdown",
   "metadata": {},
   "source": [
    "<a name=\"11\"></a>\n",
    "## 11 - Congratulations!\n",
    "\n",
    "You have successfully used Deep Q-Learning with Experience Replay to train an agent to land a lunar lander safely on a landing pad on the surface of the moon. Congratulations!"
   ]
  },
  {
   "cell_type": "markdown",
   "metadata": {},
   "source": [
    "<a name=\"12\"></a>\n",
    "## 12 - References\n",
    "\n",
    "If you would like to learn more about Deep Q-Learning, we recommend you check out the following papers.\n",
    "\n",
    "\n",
    "* Mnih, V., Kavukcuoglu, K., Silver, D. et al. Human-level control through deep reinforcement learning. Nature 518, 529–533 (2015).\n",
    "\n",
    "\n",
    "* Lillicrap, T. P., Hunt, J. J., Pritzel, A., et al. Continuous Control with Deep Reinforcement Learning. ICLR (2016).\n",
    "\n",
    "\n",
    "* Mnih, V., Kavukcuoglu, K., Silver, D. et al. Playing Atari with Deep Reinforcement Learning. arXiv e-prints.  arXiv:1312.5602 (2013)."
   ]
  },
  {
   "cell_type": "markdown",
   "metadata": {},
   "source": [
    "<details>\n",
    "  <summary><font size=\"2\" color=\"darkgreen\"><b>Please click here if you want to experiment with any of the non-graded code.</b></font></summary>\n",
    "    <p><i><b>Important Note: Please only do this when you've already passed the assignment to avoid problems with the autograder.</b></i>\n",
    "    <ol>\n",
    "        <li> On the notebook’s menu, click “View” > “Cell Toolbar” > “Edit Metadata”</li>\n",
    "        <li> Hit the “Edit Metadata” button next to the code cell which you want to lock/unlock</li>\n",
    "        <li> Set the attribute value for “editable” to:\n",
    "            <ul>\n",
    "                <li> “true” if you want to unlock it </li>\n",
    "                <li> “false” if you want to lock it </li>\n",
    "            </ul>\n",
    "        </li>\n",
    "        <li> On the notebook’s menu, click “View” > “Cell Toolbar” > “None” </li>\n",
    "    </ol>\n",
    "    <p> Here's a short demo of how to do the steps above: \n",
    "        <br>\n",
    "        <img src=\"https://lh3.google.com/u/0/d/14Xy_Mb17CZVgzVAgq7NCjMVBvSae3xO1\" align=\"center\" alt=\"unlock_cells.gif\">\n",
    "</details>"
   ]
  }
 ],
 "metadata": {
  "accelerator": "GPU",
  "colab": {
   "collapsed_sections": [],
   "name": "TensorFlow - Lunar Lander.ipynb",
   "provenance": []
  },
  "kernelspec": {
   "display_name": "Python 3",
   "language": "python",
   "name": "python3"
  },
  "language_info": {
   "codemirror_mode": {
    "name": "ipython",
    "version": 3
   },
   "file_extension": ".py",
   "mimetype": "text/x-python",
   "name": "python",
   "nbconvert_exporter": "python",
   "pygments_lexer": "ipython3",
   "version": "3.7.6"
  }
 },
 "nbformat": 4,
 "nbformat_minor": 1
}
