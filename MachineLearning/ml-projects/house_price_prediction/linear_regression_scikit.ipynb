{
 "cells": [
  {
   "cell_type": "code",
   "execution_count": 1,
   "metadata": {},
   "outputs": [
    {
     "name": "stderr",
     "output_type": "stream",
     "text": [
      "C:\\Users\\surajshukla\\AppData\\Local\\Temp\\ipykernel_19548\\689322132.py:5: DeprecationWarning: \n",
      "Pyarrow will become a required dependency of pandas in the next major release of pandas (pandas 3.0),\n",
      "(to allow more performant data types, such as the Arrow string type, and better interoperability with other libraries)\n",
      "but was not found to be installed on your system.\n",
      "If this would cause problems for you,\n",
      "please provide us feedback at https://github.com/pandas-dev/pandas/issues/54466\n",
      "        \n",
      "  import pandas as pd\n"
     ]
    }
   ],
   "source": [
    "from sklearn.linear_model import LinearRegression\n",
    "from sklearn.preprocessing import StandardScaler\n",
    "from sklearn.model_selection import train_test_split\n",
    "from sklearn.metrics import mean_squared_error\n",
    "import pandas as pd\n",
    "import numpy as np\n",
    "\n",
    "import matplotlib.pyplot as plt"
   ]
  },
  {
   "cell_type": "code",
   "execution_count": 2,
   "metadata": {},
   "outputs": [],
   "source": [
    "df = pd.read_csv(\"house_prices_preprocessed.csv\")"
   ]
  },
  {
   "cell_type": "code",
   "execution_count": 3,
   "metadata": {},
   "outputs": [
    {
     "data": {
      "image/png": "[encoded data removed]",
      "text/plain": [
       "<Figure size 640x480 with 1 Axes>"
      ]
     },
     "metadata": {},
     "output_type": "display_data"
    }
   ],
   "source": [
    "# target = \"Amount(in rupees)\"\n",
    "# y = df[target]\n",
    "# t = df.drop(columns=[target], axis=1)\n",
    "# # features = t.columns\n",
    "# print(features)\n",
    "# for i, feature in enumerate(features[:9]):\n",
    "#     plt.subplot(3, 3, i+1)\n",
    "#     plt.scatter(df[feature], y)\n",
    "#     plt.title(feature)\n",
    "\n",
    "x_column = \"Price (in rupees)\"\n",
    "y_column = \"Amount(in rupees)\"\n",
    "\n",
    "plt.scatter(df[x_column], df[y_column])\n",
    "\n",
    "plt.xlabel(x_column)\n",
    "\n",
    "plt.ylabel(y_column)\n",
    "\n",
    "plt.show()"
   ]
  },
  {
   "cell_type": "code",
   "execution_count": 4,
   "metadata": {},
   "outputs": [],
   "source": [
    "target = \"Amount(in rupees)\"\n",
    "y = np.array(df[target])\n",
    "# X = np.array(df.drop(columns=[target], axis=1))\n",
    "X = np.array(df[\"Price (in rupees)\"]).reshape(-1,1)\n",
    "\n",
    "del df "
   ]
  },
  {
   "cell_type": "code",
   "execution_count": 5,
   "metadata": {},
   "outputs": [
    {
     "name": "stdout",
     "output_type": "stream",
     "text": [
      "the shape of the training set (input) is: (91888, 1)\n",
      "the shape of the training set (target) is: (91888,)\n",
      "\n",
      "the shape of the cross validation set (input) is: (30630, 1)\n",
      "the shape of the cross validation set (target) is: (30630,)\n",
      "\n",
      "the shape of the test set (input) is: (30630, 1)\n",
      "the shape of the test set (target) is: (30630,)\n"
     ]
    }
   ],
   "source": [
    "# Get 60% of the dataset as the training set. Put the remaining 40% in temporary variables: x_ and y_.\n",
    "X_train, X_, y_train, y_ = train_test_split(X, y, test_size=0.40, random_state=1)\n",
    "\n",
    "# Split the 40% subset above into two: one half for cross validation and the other for the test set\n",
    "X_cv, X_test, y_cv, y_test = train_test_split(X_, y_, test_size=0.50, random_state=1)\n",
    "\n",
    "# Delete temporary variables\n",
    "del X_, y_\n",
    "\n",
    "print(f\"the shape of the training set (input) is: {X_train.shape}\")\n",
    "print(f\"the shape of the training set (target) is: {y_train.shape}\\n\")\n",
    "print(f\"the shape of the cross validation set (input) is: {X_cv.shape}\")\n",
    "print(f\"the shape of the cross validation set (target) is: {y_cv.shape}\\n\")\n",
    "print(f\"the shape of the test set (input) is: {X_test.shape}\")\n",
    "print(f\"the shape of the test set (target) is: {y_test.shape}\")"
   ]
  },
  {
   "cell_type": "code",
   "execution_count": 6,
   "metadata": {},
   "outputs": [
    {
     "name": "stdout",
     "output_type": "stream",
     "text": [
      "() ()\n",
      "7713.175365662546\n",
      "36542.69529224968\n"
     ]
    }
   ],
   "source": [
    "# Initialize the class\n",
    "scaler_linear = StandardScaler()\n",
    "\n",
    "# Compute the mean and standard deviation of the training set then transform it\n",
    "X_train = scaler_linear.fit_transform(X_train)\n",
    "\n",
    "# print(X_train_scaled.shape)\n",
    "mean_value = scaler_linear.mean_.squeeze()\n",
    "std_value = scaler_linear.scale_.squeeze()\n",
    "\n",
    "\n",
    "print(mean_value.shape, std_value.shape)\n",
    "print(mean_value)\n",
    "print(std_value)\n",
    "\n",
    "# print(f\"Computed mean of the training set: {mean_value:.2f}\")\n",
    "# print(f\"Computed standard deviation of the training set: {std_value:.2f}\")"
   ]
  },
  {
   "cell_type": "code",
   "execution_count": 7,
   "metadata": {},
   "outputs": [
    {
     "data": {
      "text/plain": [
       "0.5978145334979909"
      ]
     },
     "execution_count": 7,
     "metadata": {},
     "output_type": "execute_result"
    }
   ],
   "source": [
    "lr_model = LinearRegression()\n",
    "reg = lr_model.fit(X_train, y_train)\n",
    "\n",
    "reg.score(X_train, y_train)"
   ]
  },
  {
   "cell_type": "code",
   "execution_count": 8,
   "metadata": {},
   "outputs": [
    {
     "name": "stdout",
     "output_type": "stream",
     "text": [
      "[ 7710810.33148912  8075722.53176421 15880789.03764795 12462552.84062671\n",
      "  9714448.61633287  8798789.29897595 16710851.66605145 10332772.06679899\n",
      "  8075722.53176421 12678797.10745639] [ 2500000.  4000000. 23500000.  7500000.  9000000.  2400000. 21000000.\n",
      " 10700000.  3400000. 20500000.]\n",
      "training log_loss (using sklearn function): 569793916405811.2\n"
     ]
    }
   ],
   "source": [
    "yhat = lr_model.predict(X_train)\n",
    "\n",
    "print(yhat[:10], y_train[:10])\n",
    "print(f\"training log_loss (using sklearn function): {mean_squared_error(y_train, yhat) / 2}\")"
   ]
  },
  {
   "cell_type": "code",
   "execution_count": 9,
   "metadata": {},
   "outputs": [
    {
     "name": "stdout",
     "output_type": "stream",
     "text": [
      "Cross validation MSE: 44117151231946.02\n"
     ]
    }
   ],
   "source": [
    "X_cv = scaler_linear.transform(X_cv)\n",
    "\n",
    "# print(f\"Mean used to scale the CV set: {scaler_linear.mean_.squeeze():.2f}\")\n",
    "# print(f\"Standard deviation used to scale the CV set: {scaler_linear.scale_.squeeze():.2f}\")\n",
    "\n",
    "# Feed the scaled cross validation set\n",
    "yhat = lr_model.predict(X_cv)\n",
    "\n",
    "# Use scikit-learn's utility function and divide by 2\n",
    "print(f\"Cross validation MSE: {mean_squared_error(y_cv, yhat) / 2}\")"
   ]
  },
  {
   "cell_type": "code",
   "execution_count": 10,
   "metadata": {},
   "outputs": [
    {
     "name": "stdout",
     "output_type": "stream",
     "text": [
      "Test MSE: 59998522538327.67\n"
     ]
    }
   ],
   "source": [
    "X_test = scaler_linear.transform(X_test)\n",
    "\n",
    "# print(f\"Mean used to scale the CV set: {scaler_linear.mean_.squeeze():.2f}\")\n",
    "# print(f\"Standard deviation used to scale the CV set: {scaler_linear.scale_.squeeze():.2f}\")\n",
    "\n",
    "# Feed the scaled cross validation set\n",
    "yhat = lr_model.predict(X_test)\n",
    "\n",
    "# Use scikit-learn's utility function and divide by 2\n",
    "print(f\"Test MSE: {mean_squared_error(y_test, yhat) / 2}\")"
   ]
  }
 ],
 "metadata": {
  "kernelspec": {
   "display_name": "Python 3",
   "language": "python",
   "name": "python3"
  },
  "language_info": {
   "codemirror_mode": {
    "name": "ipython",
    "version": 3
   },
   "file_extension": ".py",
   "mimetype": "text/x-python",
   "name": "python",
   "nbconvert_exporter": "python",
   "pygments_lexer": "ipython3",
   "version": "3.12.2"
  }
 },
 "nbformat": 4,
 "nbformat_minor": 2
}
