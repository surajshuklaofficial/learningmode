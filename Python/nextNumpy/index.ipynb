{
 "cells": [
  {
   "cell_type": "code",
   "execution_count": 1,
   "metadata": {},
   "outputs": [],
   "source": [
    "# array ojbect in Numpy => ndarray\n",
    "\n",
    "# In computer science, locality of reference, \n",
    "# also known as the principle of locality, is the \n",
    "# tendency of a processor to access the same set \n",
    "# of memory locations repetitively over a short period of time."
   ]
  },
  {
   "cell_type": "code",
   "execution_count": 2,
   "metadata": {},
   "outputs": [
    {
     "name": "stdout",
     "output_type": "stream",
     "text": [
      "[1 2 3 4 5]\n",
      "1.26.3\n",
      "<class 'numpy.ndarray'>\n"
     ]
    }
   ],
   "source": [
    "import numpy as np\n",
    "\n",
    "arr = np.array([1, 2, 3, 4, 5])\n",
    "\n",
    "print(arr)\n",
    "\n",
    "print(np.__version__)\n",
    "\n",
    "print(type(arr)) # numpy.ndarray"
   ]
  },
  {
   "cell_type": "code",
   "execution_count": 3,
   "metadata": {},
   "outputs": [
    {
     "name": "stdout",
     "output_type": "stream",
     "text": [
      "23 [1 2 3 4 5]\n"
     ]
    }
   ],
   "source": [
    "# 0-D arrays\n",
    "arr1 = np.array(23)\n",
    "\n",
    "# 1-D arrays\n",
    "arr2 = np.array([1, 2, 3, 4, 5])\n",
    "\n",
    "# numpy has a whole sub module dedicated towards matrix operations => numpy.mat\n",
    "print(arr1, arr2)"
   ]
  },
  {
   "cell_type": "code",
   "execution_count": 4,
   "metadata": {},
   "outputs": [
    {
     "name": "stdout",
     "output_type": "stream",
     "text": [
      "1\n",
      "[[[[[1 2 3 4 5]]]]]\n"
     ]
    }
   ],
   "source": [
    "print(arr2.ndim)\n",
    "\n",
    "# n-D arrays \n",
    "arr3 = np.array([1, 2, 3, 4, 5], ndmin=5) # [[[[[1 2 3 4 5]]]]]\n",
    "\n",
    "print(arr3)"
   ]
  },
  {
   "cell_type": "code",
   "execution_count": 5,
   "metadata": {},
   "outputs": [
    {
     "name": "stdout",
     "output_type": "stream",
     "text": [
      "int32\n",
      "<U11\n"
     ]
    }
   ],
   "source": [
    "# data type in numpy\n",
    "print(arr.dtype) #int32\n",
    "\n",
    "arr4 = np.array([2, \"a\"]) \n",
    "print(arr4.dtype) # <U11\n",
    "\n",
    "arr5 = np.array([1, 2, 3, 4, 5], dtype='i4')"
   ]
  },
  {
   "cell_type": "code",
   "execution_count": 6,
   "metadata": {},
   "outputs": [
    {
     "name": "stdout",
     "output_type": "stream",
     "text": [
      "[1. 2. 3. 4. 5.]\n"
     ]
    }
   ],
   "source": [
    "# changing datatype of existing array\n",
    "newarr = arr5.astype('f') # creating a copy\n",
    "\n",
    "print(newarr)"
   ]
  },
  {
   "cell_type": "code",
   "execution_count": 7,
   "metadata": {},
   "outputs": [
    {
     "name": "stdout",
     "output_type": "stream",
     "text": [
      "None [1 2 3 4 5]\n"
     ]
    }
   ],
   "source": [
    "x = arr.copy()\n",
    "y = arr.view()\n",
    "print(x.base, y.base) # will return None if array owns the data otherwise will return original array"
   ]
  },
  {
   "cell_type": "code",
   "execution_count": 8,
   "metadata": {},
   "outputs": [
    {
     "name": "stdout",
     "output_type": "stream",
     "text": [
      "(5,) (1, 1, 1, 1, 5)\n"
     ]
    }
   ],
   "source": [
    "print(arr.shape, arr3.shape)"
   ]
  },
  {
   "cell_type": "code",
   "execution_count": 9,
   "metadata": {},
   "outputs": [
    {
     "name": "stdout",
     "output_type": "stream",
     "text": [
      "[[1 2 3 4 5]]\n"
     ]
    }
   ],
   "source": [
    "newarr = arr.reshape(1, 5)\n",
    "print(newarr)"
   ]
  },
  {
   "cell_type": "code",
   "execution_count": 12,
   "metadata": {},
   "outputs": [
    {
     "name": "stdout",
     "output_type": "stream",
     "text": [
      "[1 2 3 4 5 6]\n",
      "[[1 2]\n",
      " [3 4]\n",
      " [5 6]\n",
      " [7 8]] [[1 2 5 6]\n",
      " [3 4 7 8]]\n"
     ]
    }
   ],
   "source": [
    "arr1 = np.array([1, 2, 3])\n",
    "\n",
    "arr2 = np.array([4, 5, 6])\n",
    "\n",
    "arr = np.concatenate((arr1, arr2))\n",
    "print(arr)\n",
    "arr1 = np.array([[1, 2], [3, 4]])\n",
    "\n",
    "arr2 = np.array([[5, 6], [7, 8]])\n",
    "\n",
    "arr3 = np.concatenate((arr1, arr2), axis=0) # creates new rows \n",
    "arr4 = np.concatenate((arr1, arr2), axis=1) # creates new columns\n",
    "print(arr3, arr4)"
   ]
  },
  {
   "cell_type": "code",
   "execution_count": 16,
   "metadata": {},
   "outputs": [
    {
     "name": "stdout",
     "output_type": "stream",
     "text": [
      "[[[ 1  2]\n",
      "  [ 3  4]]\n",
      "\n",
      " [[ 9 10]\n",
      "  [11 12]]\n",
      "\n",
      " [[ 5  6]\n",
      "  [ 7  8]]\n",
      "\n",
      " [[13 14]\n",
      "  [15 16]]] h\n",
      " [[[ 1  2]\n",
      "  [ 3  4]\n",
      "  [ 5  6]\n",
      "  [ 7  8]]\n",
      "\n",
      " [[ 9 10]\n",
      "  [11 12]\n",
      "  [13 14]\n",
      "  [15 16]]]\n"
     ]
    }
   ],
   "source": [
    "arr1 = np.array([[[1, 2], [3, 4]], [[9, 10], [11, 12]]])\n",
    "\n",
    "arr2 = np.array([[[5, 6], [7, 8]], [[13, 14], [15, 16]]])\n",
    "\n",
    "arr3 = np.concatenate((arr1, arr2), axis=0) # creates new rows \n",
    "arr4 = np.concatenate((arr1, arr2), axis=1) # creates new columns\n",
    "print(arr3, \"h\\n\",arr4)"
   ]
  }
 ],
 "metadata": {
  "kernelspec": {
   "display_name": "Python 3",
   "language": "python",
   "name": "python3"
  },
  "language_info": {
   "codemirror_mode": {
    "name": "ipython",
    "version": 3
   },
   "file_extension": ".py",
   "mimetype": "text/x-python",
   "name": "python",
   "nbconvert_exporter": "python",
   "pygments_lexer": "ipython3",
   "version": "3.12.0"
  }
 },
 "nbformat": 4,
 "nbformat_minor": 2
}
