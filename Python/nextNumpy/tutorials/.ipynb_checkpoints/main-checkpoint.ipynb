{
 "cells": [
  {
   "cell_type": "code",
   "execution_count": null,
   "metadata": {},
   "outputs": [],
   "source": []
  }
 ],
 "metadata": {
  "kernelspec": {
   "display_name": "Python 3",
   "language": "python",
   "name": "python3"
  },
  "language_info": {
   "name": "python",
   "version": "3.11.1"
  },
  "vscode": {
   "interpreter": {
    "hash": "eafa764934fc66c077621e494848ac9bca3effbc5bdc91aa6b33dc870fb12e79"
   }
  }
 },
 "nbformat": 4,
 "nbformat_minor": 5
}
