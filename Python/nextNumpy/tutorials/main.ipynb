{
 "cells": [
  {
   "cell_type": "code",
   "execution_count": 1,
   "id": "e1652d8f",
   "metadata": {},
   "outputs": [],
   "source": [
    "# Numpy created by Travis Oliphant in 2005 \n",
    "# open source and free \n",
    "# Numpy = Numerical Python\n",
    "\n",
    "# numpy array 50x faster than python lists\n",
    "# array object in numpy is ndarray\n",
    "\n",
    "# written partially in Python but most part written in C or C++\n",
    "\n",
    "# numpy array are faster because they are stored in continous \n",
    "# place in memory unlike lists (locality of reference)"
   ]
  },
  {
   "cell_type": "code",
   "execution_count": 2,
   "id": "da507fb8",
   "metadata": {},
   "outputs": [
    {
     "ename": "ModuleNotFoundError",
     "evalue": "No module named 'numpy'",
     "output_type": "error",
     "traceback": [
      "\u001b[1;31m---------------------------------------------------------------------------\u001b[0m",
      "\u001b[1;31mModuleNotFoundError\u001b[0m                       Traceback (most recent call last)",
      "Cell \u001b[1;32mIn[2], line 1\u001b[0m\n\u001b[1;32m----> 1\u001b[0m \u001b[39mimport\u001b[39;00m \u001b[39mnumpy\u001b[39;00m \u001b[39mas\u001b[39;00m \u001b[39mnp\u001b[39;00m\n",
      "\u001b[1;31mModuleNotFoundError\u001b[0m: No module named 'numpy'"
     ]
    }
   ],
   "source": [
    "import numpy as np"
   ]
  },
  {
   "cell_type": "code",
   "execution_count": null,
   "id": "d0452e6f",
   "metadata": {},
   "outputs": [],
   "source": [
    "print(np.__version__)"
   ]
  },
  {
   "cell_type": "code",
   "execution_count": null,
   "id": "0f76480a",
   "metadata": {},
   "outputs": [],
   "source": [
    "# 0-D array\n",
    "arr0 = np.array(45)\n",
    "print(arr0)"
   ]
  },
  {
   "cell_type": "code",
   "execution_count": null,
   "id": "d720e3c2",
   "metadata": {},
   "outputs": [],
   "source": [
    "# 1-D array\n",
    "arr1 = np.array([1,2,3,'i']) # list\n",
    "arr2 = np.array([2,3,45,5]) # tuple\n",
    "\n",
    "print(arr1)\n",
    "print(arr2)\n",
    "\n",
    "print(type(arr1),\" \",type(arr2)) # type() - built-in function to check datatype of object"
   ]
  },
  {
   "cell_type": "code",
   "execution_count": null,
   "id": "487c0da2",
   "metadata": {},
   "outputs": [],
   "source": [
    "# 2-D array : array which has 1-D arrays as its elements\n",
    "\n",
    "arr3 = np.array([[1,2,3],[4,5,6]])\n",
    "\n",
    "print(arr3)\n",
    "\n",
    "# used to represent matrix or 2nd order tensors\n",
    "# numpy has a whole sub module for working with matrix called numpy.mat"
   ]
  },
  {
   "cell_type": "code",
   "execution_count": null,
   "id": "a6206c40",
   "metadata": {},
   "outputs": [],
   "source": [
    "# 3-D array : array which has 2-D arrays as its elements\n",
    "\n",
    "arr4 = np.array([[[1,2,3],[4,5,6]],[[7,8,9],[10,11,12]]])\n",
    "print(arr4)"
   ]
  },
  {
   "cell_type": "code",
   "execution_count": null,
   "id": "49161c5c",
   "metadata": {},
   "outputs": [],
   "source": [
    "# checking number of dimensions\n",
    "print(arr0.ndim)\n",
    "print(arr1.ndim)\n",
    "print(arr2.ndim)\n",
    "print(arr3.ndim)\n",
    "print(arr4.ndim)"
   ]
  },
  {
   "cell_type": "code",
   "execution_count": null,
   "id": "e008403a",
   "metadata": {},
   "outputs": [],
   "source": [
    "# higher order arrar : array can have any dimension\n",
    "arr5 = np.array([1,2,3,4], ndmin=5)\n",
    "print(arr5)\n",
    "print(arr5.ndim)"
   ]
  },
  {
   "cell_type": "code",
   "execution_count": null,
   "id": "1ba4de10",
   "metadata": {},
   "outputs": [],
   "source": [
    "# access array elements : Numpy array Indexing\n",
    "\n",
    "print(arr1[1]) # 1-D array\n",
    "print(arr3[1,2]) # 2-D array; [row,column]\n",
    "print(arr4[0,0,2]) # 3-D array\n",
    "\n",
    "print(arr3[1,-1]) # 2-D array; negative indices"
   ]
  },
  {
   "cell_type": "code",
   "execution_count": null,
   "id": "fc575c56",
   "metadata": {},
   "outputs": [],
   "source": [
    "# array slicing\n",
    "\n",
    "# 1-D slicing\n",
    "print(arr1[1:3])\n",
    "print(arr1[2:])\n",
    "print(arr1[:2])\n",
    "print(arr1[0:3:2]) # step\n",
    "print(arr1[::2]) # return every other element from the entire array\n",
    "print(arr1[-4:-1]) # negative slicing\n",
    "print(arr1[-1:-4]) # do not return error\n",
    "\n",
    "# 2-D slicing\n",
    "print(arr3[1, 1:3])"
   ]
  },
  {
   "cell_type": "code",
   "execution_count": null,
   "id": "fcaef279",
   "metadata": {},
   "outputs": [],
   "source": [
    "# datatype in Numpy - not understood\n",
    "\n",
    "'''\n",
    "i - integer\n",
    "b - boolean\n",
    "u - unsigned integer\n",
    "f - float\n",
    "c - complex float\n",
    "m - timedelta\n",
    "M - datetime\n",
    "O - object\n",
    "S - string\n",
    "U - unicode string\n",
    "V - fixed chunk of memory for other type(void)\n",
    "\n",
    "i, u, f, S, U we can define size as well\n",
    "'''\n",
    "\n",
    "# checking datatype\n",
    "print(arr1.dtype)\n",
    "print(arr2.dtype)\n",
    "print(arr3.dtype)\n",
    "print(arr4.dtype)\n",
    "\n",
    "# creating arrays with a defined data type\n",
    "\n",
    "arr6 = np.array([1, 3, 5, 7], dtype = 'S')\n",
    "arr7 = np.array(['1', '3', 5, 7], dtype = 'i4')\n",
    "\n",
    "print(arr6.dtype, arr6)\n",
    "print(arr7.dtype, arr7)\n",
    "\n",
    "# # if a value can not be converted \n",
    "# arr = np.array(['a','2','3'], dtype = 'i') # it will raise an error : ValueError\n",
    "\n",
    "# converting data type on Existing array\n",
    "\n",
    "arr8 = arr7.astype('S') # it makes copy of existing array and takes data type as parameter\n",
    "print(arr8.dtype, arr8) \n",
    "\n",
    "arr9 = arr6.astype('int')\n",
    "arr10 = arr6. astype('i')\n",
    "\n",
    "arr11 = arr6.astype('bool')\n",
    "\n",
    "print(arr9.dtype, arr9) \n",
    "print(arr10.dtype, arr10) \n",
    "print(arr11.dtype, arr11) \n",
    "\n",
    "'''\n",
    "we can use both f & float for float datatype, i & int for integers, bool for boolean datatype\n",
    "'''\n"
   ]
  },
  {
   "cell_type": "code",
   "execution_count": null,
   "id": "d93229ff",
   "metadata": {},
   "outputs": [],
   "source": [
    "# copy and view\n",
    "\n",
    "arr12 = np.array([1, 2, 3, 4])\n",
    "newarr12copy = arr12.copy() # creates same array on other memory location without affecting existing array\n",
    "\n",
    "newarr12view = arr12.view() # it is act like alias for the same of memory location of existing array\n",
    "\n",
    "# checking if array owns the data\n",
    "\n",
    "print(newarr12copy.base) # copy owns the data therefore it return None\n",
    "print(newarr12view.base) # view does not own the data therefore it will return the original array\n"
   ]
  },
  {
   "cell_type": "code",
   "execution_count": null,
   "id": "86061d31",
   "metadata": {},
   "outputs": [],
   "source": [
    "# shape of array \n",
    "\n",
    "print(arr0.shape) \n",
    "print(arr1.shape)\n",
    "print(arr3.shape)\n",
    "print(arr4.shape)\n",
    "print(arr5.shape)\n",
    "print(arr3)\n"
   ]
  },
  {
   "cell_type": "code",
   "execution_count": null,
   "id": "f3374024",
   "metadata": {},
   "outputs": [],
   "source": [
    "# reshaping array\n",
    "\n",
    "arr14 = np.array([1, 2, 3, 4, 5, 6, 7, 8, 9, 10, 11, 12])\n",
    "\n",
    "newarr1 = arr14.reshape(4,3) # changing 1-D to 2-D array\n",
    " \n",
    "newarr2 = arr14.reshape(2, 3, 2) # changing 1-D to 3-D array\n",
    "\n",
    "newarr3 = arr14.reshape(-1, 2, 2) # unkown size; we can't pass -1 more than one dimension\n",
    "\n",
    "print(newarr1)\n",
    "print(newarr2)\n",
    "print(newarr3)\n",
    "\n",
    "# flattening the arrays : changing multidimensional array to 1D array\n",
    "newarr4 = arr5.reshape(-1) "
   ]
  },
  {
   "cell_type": "code",
   "execution_count": null,
   "id": "f2cc4bef",
   "metadata": {},
   "outputs": [],
   "source": [
    "# ndarray iterating"
   ]
  },
  {
   "cell_type": "code",
   "execution_count": null,
   "id": "afcf6fbb",
   "metadata": {},
   "outputs": [],
   "source": [
    "# Joining Numpy Array\n",
    "\n",
    "# Axis 0 : vertical axis\n",
    "# Axis 1 : Horizontal axis\n",
    "\n",
    "\n",
    "arr15 = np.array([1, 3, 5, 7])\n",
    "arr16 = np.array([1, 2, 3, 4])\n",
    "\n",
    "arr17 = arr15.reshape(2,2)\n",
    "arr18 = arr16.reshape(2,2)\n",
    "\n",
    "# concatenate : by default the axis will be 0\n",
    "newarr1 = np.concatenate((arr15, arr16))  \n",
    "newarr2 = np.concatenate((arr17, arr18), axis=1)\n",
    "newarr3 = np.concatenate((arr17, arr18))\n",
    "\n",
    "print(newarr1)\n",
    "print(newarr2)\n",
    "print(newarr3)\n",
    "\n",
    "# stack : by default the axis will be 0\n",
    "newarr4 = np.stack((arr15, arr16))\n",
    "newarr5 = np.stack((arr15, arr16), axis=1)\n",
    "newarr6 = np.hstack((arr15, arr16)) # stacking along rows\n",
    "newarr7 = np.vstack((arr15, arr16)) # stacking along rows\n",
    "newarr8 = np.vstack((arr15, arr16)) # stacking along height(depth)\n",
    "\n",
    "print(newarr4)\n",
    "print(newarr5)\n",
    "print(newarr6)\n",
    "print(newarr7)\n",
    "print(newarr8)"
   ]
  },
  {
   "cell_type": "code",
   "execution_count": null,
   "id": "a2ef102c",
   "metadata": {},
   "outputs": [],
   "source": [
    "# spliting Numpy array\n",
    "\n",
    "arr19 = np.array([1, 2, 3, 4, 5, 6, 7, 8])\n",
    "\n",
    "newarr1 = np.array_split(arr19, 3) # 3 - numbers of splits \n",
    "\n",
    "print(newarr1)\n",
    "\n",
    "\n",
    "'''\n",
    "newarr = hsplit(arr, 3)\n",
    "newarr = vsplit(arr, 3)\n",
    "newarr = dsplit(arr, 3)\n",
    "'''"
   ]
  },
  {
   "cell_type": "code",
   "execution_count": null,
   "id": "f2f32571",
   "metadata": {},
   "outputs": [],
   "source": [
    "# searching arrays\n",
    "\n",
    "arr20 = np.array([1, 2, 3, 4, 5, 4, 4])\n",
    "\n",
    "# where() returns an array of required indices inside a singleton tuple\n",
    "# where() used to search array element\n",
    "\n",
    "x1 = np.where(arr20 == 4) # returns all indices where 4 is present\n",
    "x2 = np.where(arr20 == 2) # returns all indices where 2 is present\n",
    "y = np.where(arr20%2 == 0) # returns all indices where value is even\n",
    "z = np.where(arr20%2 == 1) # returns all indices where value is odd\n",
    "\n",
    "print(x1 , x2 , y, z)\n",
    "\n",
    "# search sorted : performs a binary search in the sorted array and returns index where a new element wourld be inserted to maintain the search order\n",
    "\n",
    "arr21 = np.array([1, 6, 7, 8, 9])\n",
    "\n",
    "x = np.searchsorted(arr21, 7)\n",
    "y = np.searchsorted(arr21, 7, side = 'right')\n",
    "z = np.searchsorted(arr21, [2, 4, 6])\n",
    "\n",
    "print(x, y, z)\n"
   ]
  },
  {
   "cell_type": "code",
   "execution_count": null,
   "id": "5f3abe61",
   "metadata": {},
   "outputs": [],
   "source": [
    "# sorting : sorting means putting elements in an ordered sequence\n",
    "\n",
    "# oredered sequence : is any sequence that has an order corresponding to elements like numeric or alphabetical, ascending or descending\n",
    "\n",
    "arr22 = np.array([3, 2, 0, 1])\n",
    "arr23 = np.array(['banana', 'cherry', 'apple']) #  ~! sorting criteria not clarified\n",
    "arr24 = np.array([True, False, True]) # ~! sorting criteria not clarified\n",
    "\n",
    "# sort returns a copy of array without changing original array \n",
    "print(np.sort(arr22))\n",
    "print(np.sort(arr23))\n",
    "print(np.sort(arr24))\n",
    "\n",
    "arr25 = np.array([[3, 2, 4], [5, 0, 1]])\n",
    "\n",
    "print(np.sort(arr25))"
   ]
  },
  {
   "cell_type": "code",
   "execution_count": null,
   "id": "5e61fb18",
   "metadata": {},
   "outputs": [],
   "source": [
    "# filtering arrays : getting some elements out of an existing array and creating a new array out of them is called filtering\n",
    "\n",
    "# in numpy, filtering is done using a boolean index list \n",
    "'''\n",
    "    If the value at an index is True that element is contained \n",
    "    in the filtered array, if the value at that index is False\n",
    "    that element is excluded from the filtered array.\n",
    "'''\n",
    "\n",
    "arr26 = np.array([41, 42, 43, 44])\n",
    "\n",
    "x = [True, False, True, False]\n",
    "\n",
    "newarr1 = arr26[x]\n",
    "\n",
    "print(newarr1)\n",
    "\n",
    "# creating filter directly from array\n",
    "\n",
    "newarr2 = arr25 > 42\n",
    "newarr2 = arr25 % 2 == 0 # will return only even element\n",
    "print(newarr2)\n",
    "print(newarr3)"
   ]
  },
  {
   "cell_type": "code",
   "execution_count": null,
   "id": "f7e2585a",
   "metadata": {},
   "outputs": [],
   "source": [
    "print(np.exp(arr26))"
   ]
  },
  {
   "cell_type": "code",
   "execution_count": null,
   "id": "fbc7173e",
   "metadata": {},
   "outputs": [],
   "source": []
  }
 ],
 "metadata": {
  "kernelspec": {
   "display_name": "Python 3",
   "language": "python",
   "name": "python3"
  },
  "language_info": {
   "codemirror_mode": {
    "name": "ipython",
    "version": 3
   },
   "file_extension": ".py",
   "mimetype": "text/x-python",
   "name": "python",
   "nbconvert_exporter": "python",
   "pygments_lexer": "ipython3",
   "version": "3.11.1"
  },
  "vscode": {
   "interpreter": {
    "hash": "eafa764934fc66c077621e494848ac9bca3effbc5bdc91aa6b33dc870fb12e79"
   }
  }
 },
 "nbformat": 4,
 "nbformat_minor": 5
}
