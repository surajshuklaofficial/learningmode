{
 "cells": [
  {
   "cell_type": "code",
   "execution_count": 2,
   "metadata": {},
   "outputs": [
    {
     "name": "stdout",
     "output_type": "stream",
     "text": [
      "a [[[[ 0  1  2]\n",
      "   [ 3  4  5]]\n",
      "\n",
      "  [[ 6  7  8]\n",
      "   [ 9 10 11]]]\n",
      "\n",
      "\n",
      " [[[12 13 14]\n",
      "   [15 16 17]]\n",
      "\n",
      "  [[18 19 20]\n",
      "   [21 22 23]]]\n",
      "\n",
      "\n",
      " [[[24 25 26]\n",
      "   [27 28 29]]\n",
      "\n",
      "  [[30 31 32]\n",
      "   [33 34 35]]]]\n",
      "[[ 0  1  2  3  4  5  6  7  8  9 10 11]\n",
      " [12 13 14 15 16 17 18 19 20 21 22 23]\n",
      " [24 25 26 27 28 29 30 31 32 33 34 35]]\n",
      "[[ 0  1  2]\n",
      " [ 3  4  5]\n",
      " [ 6  7  8]\n",
      " [ 9 10 11]\n",
      " [12 13 14]\n",
      " [15 16 17]\n",
      " [18 19 20]\n",
      " [21 22 23]\n",
      " [24 25 26]\n",
      " [27 28 29]\n",
      " [30 31 32]\n",
      " [33 34 35]]\n",
      "[[ 0 12 24]\n",
      " [ 1 13 25]\n",
      " [ 2 14 26]\n",
      " [ 3 15 27]\n",
      " [ 4 16 28]\n",
      " [ 5 17 29]\n",
      " [ 6 18 30]\n",
      " [ 7 19 31]\n",
      " [ 8 20 32]\n",
      " [ 9 21 33]\n",
      " [10 22 34]\n",
      " [11 23 35]]\n"
     ]
    }
   ],
   "source": [
    "import numpy as np\n",
    "\n",
    "a = np.array(range(36)).reshape((3, 2, 2, 3))\n",
    "\n",
    "b = a.reshape(-1)\n",
    "\n",
    "c = a.reshape(3, -1)\n",
    "d = a.reshape(-1, 3)\n",
    "e = c.T\n",
    "\n",
    "print(\"a\",a)\n",
    "\n",
    "print(c)\n",
    "print(d)\n",
    "print(e)"
   ]
  },
  {
   "cell_type": "code",
   "execution_count": 3,
   "metadata": {},
   "outputs": [
    {
     "name": "stdout",
     "output_type": "stream",
     "text": [
      "[[[[0.         1.         1.41421356]\n",
      "   [1.73205081 2.         2.23606798]]\n",
      "\n",
      "  [[2.44948974 2.64575131 2.82842712]\n",
      "   [3.         3.16227766 3.31662479]]]\n",
      "\n",
      "\n",
      " [[[3.46410162 3.60555128 3.74165739]\n",
      "   [3.87298335 4.         4.12310563]]\n",
      "\n",
      "  [[4.24264069 4.35889894 4.47213595]\n",
      "   [4.58257569 4.69041576 4.79583152]]]\n",
      "\n",
      "\n",
      " [[[4.89897949 5.         5.09901951]\n",
      "   [5.19615242 5.29150262 5.38516481]]\n",
      "\n",
      "  [[5.47722558 5.56776436 5.65685425]\n",
      "   [5.74456265 5.83095189 5.91607978]]]]\n",
      "[[[[   0    1    4]\n",
      "   [   9   16   25]]\n",
      "\n",
      "  [[  36   49   64]\n",
      "   [  81  100  121]]]\n",
      "\n",
      "\n",
      " [[[ 144  169  196]\n",
      "   [ 225  256  289]]\n",
      "\n",
      "  [[ 324  361  400]\n",
      "   [ 441  484  529]]]\n",
      "\n",
      "\n",
      " [[[ 576  625  676]\n",
      "   [ 729  784  841]]\n",
      "\n",
      "  [[ 900  961 1024]\n",
      "   [1089 1156 1225]]]]\n"
     ]
    }
   ],
   "source": [
    "print(np.sqrt(a))\n",
    "print(np.power(a, 2))"
   ]
  },
  {
   "cell_type": "code",
   "execution_count": null,
   "metadata": {},
   "outputs": [],
   "source": []
  },
  {
   "cell_type": "code",
   "execution_count": null,
   "metadata": {},
   "outputs": [],
   "source": []
  }
 ],
 "metadata": {
  "kernelspec": {
   "display_name": "Python 3",
   "language": "python",
   "name": "python3"
  },
  "language_info": {
   "codemirror_mode": {
    "name": "ipython",
    "version": 3
   },
   "file_extension": ".py",
   "mimetype": "text/x-python",
   "name": "python",
   "nbconvert_exporter": "python",
   "pygments_lexer": "ipython3",
   "version": "3.11.1"
  },
  "orig_nbformat": 4,
  "vscode": {
   "interpreter": {
    "hash": "eafa764934fc66c077621e494848ac9bca3effbc5bdc91aa6b33dc870fb12e79"
   }
  }
 },
 "nbformat": 4,
 "nbformat_minor": 2
}
